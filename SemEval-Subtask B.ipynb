{
 "cells": [
  {
   "cell_type": "markdown",
   "id": "c5a87b86",
   "metadata": {},
   "source": [
    "## load packages"
   ]
  },
  {
   "cell_type": "code",
   "execution_count": 35,
   "id": "490b2281",
   "metadata": {},
   "outputs": [
    {
     "name": "stderr",
     "output_type": "stream",
     "text": [
      "[nltk_data] Downloading package stopwords to\n",
      "[nltk_data]     /Users/shaoxing/nltk_data...\n",
      "[nltk_data]   Package stopwords is already up-to-date!\n",
      "[nltk_data] Downloading package punkt to /Users/shaoxing/nltk_data...\n",
      "[nltk_data]   Package punkt is already up-to-date!\n"
     ]
    }
   ],
   "source": [
    "import numpy as np \n",
    "import pandas as pd \n",
    "\n",
    "import matplotlib.pyplot as plt\n",
    "import seaborn as sb\n",
    "\n",
    "import os\n",
    "import nltk\n",
    "from nltk.corpus import stopwords\n",
    "import seaborn as sns\n",
    "from sklearn.metrics import f1_score\n",
    "from sklearn.model_selection import KFold\n",
    "from sklearn.feature_extraction.text import TfidfVectorizer,CountVectorizer\n",
    "from sklearn.linear_model import LogisticRegression\n",
    "from sklearn.model_selection import cross_val_score\n",
    "from sklearn.ensemble import RandomForestClassifier\n",
    "from sklearn.naive_bayes import GaussianNB,MultinomialNB,ComplementNB,BernoulliNB\n",
    "\n",
    "import re\n",
    "import emoji\n",
    "\n",
    "from collections import Counter\n",
    "from sklearn.datasets import make_classification\n",
    "\n",
    "from imblearn.under_sampling import RandomUnderSampler\n",
    "from sklearn import model_selection, naive_bayes, svm\n",
    "from sklearn.metrics import accuracy_score\n",
    "from sklearn.metrics import accuracy_score, f1_score, precision_score, recall_score, classification_report, confusion_matrix\n",
    "\n",
    "from nltk import FreqDist\n",
    "import nltk\n",
    "nltk.download('stopwords')\n",
    "nltk.download('punkt')\n",
    "from nltk.tokenize import sent_tokenize, word_tokenize\n",
    "from nltk.corpus import stopwords\n",
    "from sklearn.ensemble import RandomForestClassifier\n",
    "from sklearn.linear_model import LogisticRegression\n",
    "\n",
    "from keras.preprocessing.sequence import pad_sequences\n",
    "from keras.layers import Dense, Input, LSTM, Embedding, Dropout, Activation, CuDNNGRU, Conv1D, CuDNNLSTM, concatenate\n",
    "from keras.layers import Bidirectional, GlobalMaxPool1D, Dropout, SpatialDropout1D, GlobalAveragePooling1D, GlobalMaxPooling1D\n",
    "from keras.models import Model\n",
    "from keras import initializers, regularizers, constraints, optimizers, layers\n",
    "\n"
   ]
  },
  {
   "cell_type": "markdown",
   "id": "aed10bb3",
   "metadata": {},
   "source": [
    "## Reading Dataset"
   ]
  },
  {
   "cell_type": "code",
   "execution_count": 36,
   "id": "98a732af",
   "metadata": {},
   "outputs": [],
   "source": [
    "## directory of dataset\n",
    "root=\"/Users/shaoxing/Desktop/dataset/\""
   ]
  },
  {
   "cell_type": "code",
   "execution_count": 37,
   "id": "94cba64e",
   "metadata": {},
   "outputs": [],
   "source": [
    "## read the train dataset\n",
    "train_dataset=pd.read_csv(root+'offenseval-training-v1.tsv' , sep='\\t')\n"
   ]
  },
  {
   "cell_type": "code",
   "execution_count": 38,
   "id": "12cfa2c4",
   "metadata": {},
   "outputs": [],
   "source": [
    "## read the test_dataset\n",
    "test_data = pd.read_csv(root+'testset-levelb.tsv' , sep='\\t') \n",
    "\n",
    "test_labels=pd.read_csv(root+'labels-levelb.csv' , sep='\\t') \n",
    "\n",
    "test_labels=np.array(test_labels)\n",
    "\n",
    "test_labels=np.insert(test_labels,0,['15923,TIN'])\n",
    "labels=[]\n",
    "for item in test_labels:\n",
    "    labels.append(item.split(\",\")[1])\n",
    "\n",
    "\n",
    "labels=pd.DataFrame(labels, columns=[\"subtask_b\"])\n",
    "\n",
    "test_dataset = pd.concat([test_data, labels], axis=1)\n",
    "#test_dataset"
   ]
  },
  {
   "cell_type": "markdown",
   "id": "e229c87b",
   "metadata": {},
   "source": [
    "## Dataset Preprocessing"
   ]
  },
  {
   "cell_type": "code",
   "execution_count": 39,
   "id": "cdde53c9",
   "metadata": {},
   "outputs": [],
   "source": [
    "def emojiProcessing (text):\n",
    "    \n",
    "    text = emoji.demojize(text)\n",
    "     \n",
    "    text = re.compile(\"([\\U0001f3fb-\\U0001f3ff])\").sub(r'',text) \n",
    "    text = re.compile(\"([\\U00010000-\\U0010ffff])\").sub(r'',text) \n",
    "    text = re.compile(\"(\\u00a9|\\u00ae|[\\u2000-\\u3300]|\\ud83c[\\ud000-\\udfff]|\\ud83d[\\ud000-\\udfff]|\\ud83e[\\ud000-\\udfff])\").sub(r'',text)\n",
    "\n",
    "     \n",
    "    text = re.compile(\"([\\U00010000-\\U0010ffff])\").sub(r' \\1 ',text) \n",
    "    return text"
   ]
  },
  {
   "cell_type": "code",
   "execution_count": 40,
   "id": "9cb33138",
   "metadata": {},
   "outputs": [],
   "source": [
    "## define function to perform tweets cleaning\n",
    "def tweetPreprocessing (text):\n",
    "    \n",
    "    \n",
    "    text = re.compile(r'@USER').sub(r'<user>',text)# Replace @USER by <user>\n",
    "\n",
    "    \n",
    "    text = re.compile(r'URL').sub(r'<url>',text)# Replace URL by <url>\n",
    "\n",
    "    \n",
    "    text = re.compile(r'[0-9]+').sub(r' ',text)# Remove numbers :\n",
    "\n",
    "    \n",
    "    text = re.compile(r'([\\xa0_\\{\\}\\[\\]¬•$,:;/@#|\\^*%().~`”\"“-])').sub(r' ',text) # Remove some special characters\n",
    "\n",
    "    \n",
    "    text = re.compile(r'([$&+,:;=?@#|\\'.^*()%!\"’“-])').sub(r' \\1 ',text)# Space the special characters with white spaces\n",
    "\n",
    "    \n",
    "    replace_dict = {r'&' : 'and' , r'&amp;' : 'and' , \n",
    "                    r'\\+' : 'plus'} # Replace some special characters : \n",
    "    for cha in replace_dict:\n",
    "        text = re.compile(str(cha)).sub(str(replace_dict[cha]),text)\n",
    "\n",
    "    \n",
    "    text = emojiProcessing(text)# Handle Emoji\n",
    "\n",
    "    \n",
    "    text = re.compile(r'(.)\\1{3,}').sub(r'\\1\\1',text)# Word delengthening : \n",
    "\n",
    "    \n",
    "    text = re.compile(r'([a-z]+|[A-Z]+|[A-Z][a-z]+)([A-Z][a-z]+)').sub(r'\\1 \\2',text)\n",
    "    text = re.compile(r'([a-z]+|[A-Z]+|[A-Z][a-z]+)([A-Z][a-z]+)').sub(r'\\1 \\2',text)        \n",
    "    \n",
    "   \n",
    "    text = text.split(' ')\n",
    "\n",
    "    \n",
    "    text = [text[i] for i in range(len(text)) if text[i] != ' ']# Remove white spaces tokens\n",
    "\n",
    "    \n",
    "    text = [text[i] for i in range(len(text)) if text[i] != '']# Remove empty tokens\n",
    "\n",
    "   \n",
    "    text = [text[i] for i in range(len(text)) if text[i] != text[i-1]] # Remove repetition in tokens (!!! => !)\n",
    "\n",
    "    #  Handle the ALL CAPS Tweets \n",
    "\n",
    "    caps_r = np.mean([text[i].isupper() for i in range(len(text))])\n",
    "    if caps_r > 0.6 : \n",
    "        text.append('<allcaps>')\n",
    "\n",
    "   \n",
    "    text = [text[i].lower() for i in range(len(text))]\n",
    "    \n",
    "    return \" \".join(str(x) for x in text)"
   ]
  },
  {
   "cell_type": "code",
   "execution_count": 41,
   "id": "355bde50",
   "metadata": {},
   "outputs": [
    {
     "data": {
      "text/html": [
       "<div>\n",
       "<style scoped>\n",
       "    .dataframe tbody tr th:only-of-type {\n",
       "        vertical-align: middle;\n",
       "    }\n",
       "\n",
       "    .dataframe tbody tr th {\n",
       "        vertical-align: top;\n",
       "    }\n",
       "\n",
       "    .dataframe thead th {\n",
       "        text-align: right;\n",
       "    }\n",
       "</style>\n",
       "<table border=\"1\" class=\"dataframe\">\n",
       "  <thead>\n",
       "    <tr style=\"text-align: right;\">\n",
       "      <th></th>\n",
       "      <th>id</th>\n",
       "      <th>tweet</th>\n",
       "      <th>subtask_a</th>\n",
       "      <th>subtask_b</th>\n",
       "      <th>subtask_c</th>\n",
       "      <th>preprocessed_tweet</th>\n",
       "    </tr>\n",
       "  </thead>\n",
       "  <tbody>\n",
       "    <tr>\n",
       "      <th>0</th>\n",
       "      <td>86426</td>\n",
       "      <td>@USER She should ask a few native Americans wh...</td>\n",
       "      <td>OFF</td>\n",
       "      <td>0.0</td>\n",
       "      <td>NaN</td>\n",
       "      <td>&lt;user&gt; she should ask a few native americans w...</td>\n",
       "    </tr>\n",
       "    <tr>\n",
       "      <th>1</th>\n",
       "      <td>90194</td>\n",
       "      <td>@USER @USER Go home you’re drunk!!! @USER #MAG...</td>\n",
       "      <td>OFF</td>\n",
       "      <td>1.0</td>\n",
       "      <td>IND</td>\n",
       "      <td>&lt;user&gt; go home you re drunk ! &lt;user&gt; maga trum...</td>\n",
       "    </tr>\n",
       "    <tr>\n",
       "      <th>2</th>\n",
       "      <td>16820</td>\n",
       "      <td>Amazon is investigating Chinese employees who ...</td>\n",
       "      <td>NOT</td>\n",
       "      <td>NaN</td>\n",
       "      <td>NaN</td>\n",
       "      <td>amazon is investigating chinese employees who ...</td>\n",
       "    </tr>\n",
       "    <tr>\n",
       "      <th>3</th>\n",
       "      <td>62688</td>\n",
       "      <td>@USER Someone should'veTaken\" this piece of sh...</td>\n",
       "      <td>OFF</td>\n",
       "      <td>0.0</td>\n",
       "      <td>NaN</td>\n",
       "      <td>&lt;user&gt; someone should ' ve taken this piece of...</td>\n",
       "    </tr>\n",
       "    <tr>\n",
       "      <th>4</th>\n",
       "      <td>43605</td>\n",
       "      <td>@USER @USER Obama wanted liberals &amp;amp; illega...</td>\n",
       "      <td>NOT</td>\n",
       "      <td>NaN</td>\n",
       "      <td>NaN</td>\n",
       "      <td>&lt;user&gt; obama wanted liberals and amp illegals ...</td>\n",
       "    </tr>\n",
       "  </tbody>\n",
       "</table>\n",
       "</div>"
      ],
      "text/plain": [
       "      id                                              tweet subtask_a  \\\n",
       "0  86426  @USER She should ask a few native Americans wh...       OFF   \n",
       "1  90194  @USER @USER Go home you’re drunk!!! @USER #MAG...       OFF   \n",
       "2  16820  Amazon is investigating Chinese employees who ...       NOT   \n",
       "3  62688  @USER Someone should'veTaken\" this piece of sh...       OFF   \n",
       "4  43605  @USER @USER Obama wanted liberals &amp; illega...       NOT   \n",
       "\n",
       "   subtask_b subtask_c                                 preprocessed_tweet  \n",
       "0        0.0       NaN  <user> she should ask a few native americans w...  \n",
       "1        1.0       IND  <user> go home you re drunk ! <user> maga trum...  \n",
       "2        NaN       NaN  amazon is investigating chinese employees who ...  \n",
       "3        0.0       NaN  <user> someone should ' ve taken this piece of...  \n",
       "4        NaN       NaN  <user> obama wanted liberals and amp illegals ...  "
      ]
     },
     "execution_count": 41,
     "metadata": {},
     "output_type": "execute_result"
    }
   ],
   "source": [
    "## preprocessing the train dataset\n",
    "train_dataset['subtask_b'].replace({'UNT':0, 'TIN': 1}, inplace= True)\n",
    "train_dataset[\"preprocessed_tweet\"] = train_dataset[\"tweet\"].apply(tweetPreprocessing)\n",
    "train_dataset.head()"
   ]
  },
  {
   "cell_type": "code",
   "execution_count": 42,
   "id": "fe6c6f30",
   "metadata": {},
   "outputs": [
    {
     "data": {
      "text/html": [
       "<div>\n",
       "<style scoped>\n",
       "    .dataframe tbody tr th:only-of-type {\n",
       "        vertical-align: middle;\n",
       "    }\n",
       "\n",
       "    .dataframe tbody tr th {\n",
       "        vertical-align: top;\n",
       "    }\n",
       "\n",
       "    .dataframe thead th {\n",
       "        text-align: right;\n",
       "    }\n",
       "</style>\n",
       "<table border=\"1\" class=\"dataframe\">\n",
       "  <thead>\n",
       "    <tr style=\"text-align: right;\">\n",
       "      <th></th>\n",
       "      <th>id</th>\n",
       "      <th>tweet</th>\n",
       "      <th>subtask_b</th>\n",
       "      <th>preprocessed_tweet</th>\n",
       "    </tr>\n",
       "  </thead>\n",
       "  <tbody>\n",
       "    <tr>\n",
       "      <th>0</th>\n",
       "      <td>15923</td>\n",
       "      <td>#WhoIsQ #WheresTheServer #DumpNike #DECLASFISA...</td>\n",
       "      <td>1</td>\n",
       "      <td>who isq wheres the server dump nike declasfisa...</td>\n",
       "    </tr>\n",
       "    <tr>\n",
       "      <th>1</th>\n",
       "      <td>60133</td>\n",
       "      <td>#NoPasaran: Unity demo to oppose the far-right...</td>\n",
       "      <td>1</td>\n",
       "      <td>no pasaran unity demo to oppose the far right ...</td>\n",
       "    </tr>\n",
       "    <tr>\n",
       "      <th>2</th>\n",
       "      <td>83681</td>\n",
       "      <td>. . . What the fuck did he do this time?</td>\n",
       "      <td>1</td>\n",
       "      <td>what the fuck did he do this time ?</td>\n",
       "    </tr>\n",
       "    <tr>\n",
       "      <th>3</th>\n",
       "      <td>65507</td>\n",
       "      <td>@USER Do you get the feeling he is kissing @US...</td>\n",
       "      <td>1</td>\n",
       "      <td>&lt;user&gt; do you get the feeling he is kissing &lt;u...</td>\n",
       "    </tr>\n",
       "    <tr>\n",
       "      <th>4</th>\n",
       "      <td>12588</td>\n",
       "      <td>@USER Nigga ware da hits at</td>\n",
       "      <td>0</td>\n",
       "      <td>&lt;user&gt; nigga ware da hits at</td>\n",
       "    </tr>\n",
       "  </tbody>\n",
       "</table>\n",
       "</div>"
      ],
      "text/plain": [
       "      id                                              tweet  subtask_b  \\\n",
       "0  15923  #WhoIsQ #WheresTheServer #DumpNike #DECLASFISA...          1   \n",
       "1  60133  #NoPasaran: Unity demo to oppose the far-right...          1   \n",
       "2  83681           . . . What the fuck did he do this time?          1   \n",
       "3  65507  @USER Do you get the feeling he is kissing @US...          1   \n",
       "4  12588                        @USER Nigga ware da hits at          0   \n",
       "\n",
       "                                  preprocessed_tweet  \n",
       "0  who isq wheres the server dump nike declasfisa...  \n",
       "1  no pasaran unity demo to oppose the far right ...  \n",
       "2                what the fuck did he do this time ?  \n",
       "3  <user> do you get the feeling he is kissing <u...  \n",
       "4                       <user> nigga ware da hits at  "
      ]
     },
     "execution_count": 42,
     "metadata": {},
     "output_type": "execute_result"
    }
   ],
   "source": [
    "## preprocessing the test dataset\n",
    "test_dataset['subtask_b'].replace({'UNT':0, 'TIN': 1}, inplace= True)\n",
    "test_dataset[\"preprocessed_tweet\"] = test_dataset[\"tweet\"].apply(tweetPreprocessing)\n",
    "test_dataset.head()"
   ]
  },
  {
   "cell_type": "markdown",
   "id": "3e91c5f2",
   "metadata": {},
   "source": [
    "## Extract Features"
   ]
  },
  {
   "cell_type": "code",
   "execution_count": 43,
   "id": "4ec2c862",
   "metadata": {},
   "outputs": [],
   "source": [
    "Tweets = train_dataset[\"preprocessed_tweet\"].values\n",
    "labels = train_dataset[\"subtask_b\"].values"
   ]
  },
  {
   "cell_type": "code",
   "execution_count": 44,
   "id": "d357d139",
   "metadata": {},
   "outputs": [],
   "source": [
    "train_Tweets=Tweets\n",
    "train_labels=labels\n",
    "\n",
    "test_Tweets=test_dataset[\"preprocessed_tweet\"].values\n",
    "test_labels=test_dataset[\"subtask_b\"].values"
   ]
  },
  {
   "cell_type": "markdown",
   "id": "4a72c205",
   "metadata": {},
   "source": [
    "## Features Extraction: TF-IDF"
   ]
  },
  {
   "cell_type": "code",
   "execution_count": 45,
   "id": "7b1a76ef",
   "metadata": {},
   "outputs": [],
   "source": [
    "def tf_idf(Tweets, train_Tweets, test_Tweets):\n",
    "    \n",
    "    tfidfVectorizer = TfidfVectorizer()\n",
    "    tfidfVectorizer.fit(Tweets)\n",
    "\n",
    "    train_text_features_tf = tfidfVectorizer.transform(train_Tweets)\n",
    "    test_text_features_tf = tfidfVectorizer.transform(test_Tweets)\n",
    "    \n",
    "    return train_text_features_tf, test_text_features_tf"
   ]
  },
  {
   "cell_type": "markdown",
   "id": "2cc16873",
   "metadata": {},
   "source": [
    "## Features Extraction: CountVectorizer"
   ]
  },
  {
   "cell_type": "code",
   "execution_count": 46,
   "id": "fccfbada",
   "metadata": {},
   "outputs": [],
   "source": [
    "def count(Tweets, train_Tweets, test_Tweets):\n",
    "    \n",
    "    countVectorizer = CountVectorizer()\n",
    "    countVectorizer.fit(Tweets)\n",
    "\n",
    "    train_text_features_cv = countVectorizer.transform(train_Tweets)\n",
    "    test_text_features_cv = countVectorizer.transform(test_Tweets)\n",
    "    \n",
    "    return train_text_features_cv, test_text_features_cv"
   ]
  },
  {
   "cell_type": "markdown",
   "id": "b618610f",
   "metadata": {},
   "source": [
    "## Sampling: Undersampling "
   ]
  },
  {
   "cell_type": "code",
   "execution_count": 47,
   "id": "8ff80ed9",
   "metadata": {},
   "outputs": [],
   "source": [
    "def undersampling(train_text_features_tf, train_labels):\n",
    "    randomUnderSampler = RandomUnderSampler(random_state=0)\n",
    "    Tweets_resampled, labels_resampled = randomUnderSampler.fit_resample(train_text_features_tf, train_labels)\n",
    "    return Tweets_resampled, labels_resampled"
   ]
  },
  {
   "cell_type": "markdown",
   "id": "6acc7afd",
   "metadata": {},
   "source": [
    "## Sampling: Oversampling"
   ]
  },
  {
   "cell_type": "code",
   "execution_count": 48,
   "id": "12e1487d",
   "metadata": {},
   "outputs": [],
   "source": [
    "def oversampling(train_text_features_tf, train_labels):\n",
    "    from imblearn.over_sampling import SMOTE\n",
    "    smote = SMOTE('minority')\n",
    "    Tweets_oversampled, labels_oversampled = smote.fit_resample(train_text_features_tf, train_labels)\n",
    "    return Tweets_oversampled, labels_oversampled"
   ]
  },
  {
   "cell_type": "markdown",
   "id": "325b83a5",
   "metadata": {},
   "source": [
    "## Plotting Confusion Matrix"
   ]
  },
  {
   "cell_type": "code",
   "execution_count": 49,
   "id": "8b35eb33",
   "metadata": {},
   "outputs": [],
   "source": [
    "def confusionMatrix(labels_test, labels_pred):\n",
    "    \n",
    "  \n",
    "    mat = confusion_matrix(labels_test, labels_pred)\n",
    "    cm = pd.DataFrame(mat)\n",
    "    TP = cm.iloc[1,1] # True Positive\n",
    "    TN = cm.iloc[0,0] # True Negative\n",
    "    FP = cm.iloc[0,1] # False Positive\n",
    "    FN = cm.iloc[1,0] # False Negative\n",
    "\n",
    "    print('Sensitivity: {:.2%}'.format(TP/(FN+TP)))\n",
    "    print('Specificity: {:.2%}'.format(TN/(FP+TN)))\n",
    "  \n",
    "    sns.heatmap(mat.T, square=True, annot=True, fmt='d', cbar=True)\n",
    "    plt.title('A confusion matrix showing the frequency of misclassifications by classifier')\n",
    "    plt.xlabel('true label')\n",
    "    plt.ylabel('predicted label');\n",
    "    plt.show()"
   ]
  },
  {
   "cell_type": "markdown",
   "id": "ed14f606",
   "metadata": {},
   "source": [
    "## Model Processing Function"
   ]
  },
  {
   "cell_type": "code",
   "execution_count": 50,
   "id": "f85e54e2",
   "metadata": {},
   "outputs": [],
   "source": [
    "def modelBuild(model, Tweets, train_Tweets, train_labels, test_Tweets, test_labels, tfidf = False, cv = False, undersampled = False, oversample = False):\n",
    "    \n",
    "    if tfidf:\n",
    "        print('Feature Extraction using TFIFD')\n",
    "        train_text_features, test_text_features = tf_idf(Tweets, train_Tweets, test_Tweets)\n",
    "    \n",
    "    if cv:\n",
    "        print('Feature Extraction using CV')\n",
    "        train_text_features, test_text_features = count(Tweets, train_Tweets, test_Tweets)\n",
    "\n",
    "    if undersampled:\n",
    "        print('Undersampling the dataset')\n",
    "        train_text_features, train_labels = undersampling(train_text_features, train_labels)\n",
    "\n",
    "    if oversample:\n",
    "        print('Oversampling the dataset')\n",
    "        train_text_features, train_labels = oversampling(train_text_features, train_labels)\n",
    "        \n",
    "    model.fit(train_text_features, train_labels)\n",
    "\n",
    "    \n",
    "    predictions = model.predict(test_text_features)\n",
    "\n",
    "    # Use accuracy_score function to get the accuracy\n",
    "    print(\"Accuracy Score -> \",accuracy_score(predictions, test_labels)*100)\n",
    "\n",
    "    print('F1Score', f1_score(predictions, test_labels, average=\"macro\"))\n",
    "    print('Precision', precision_score(predictions, test_labels, average=\"macro\"))\n",
    "    print('Recall', recall_score(predictions, test_labels, average=\"macro\"))\n",
    "\n",
    "    confusionMatrix(test_labels, predictions)"
   ]
  },
  {
   "cell_type": "markdown",
   "id": "5cf0fa8a",
   "metadata": {},
   "source": [
    "## SVM : Undersampling and Count"
   ]
  },
  {
   "cell_type": "code",
   "execution_count": 60,
   "id": "c7f04df9",
   "metadata": {},
   "outputs": [
    {
     "name": "stdout",
     "output_type": "stream",
     "text": [
      "Feature Extraction using CV\n",
      "Undersampling the dataset\n",
      "Accuracy Score ->  53.333333333333336\n",
      "F1Score 0.4681861348528015\n",
      "Precision 0.6562336984872196\n",
      "Recall 0.5627487953069349\n",
      "Sensitivity: 49.77%\n",
      "Specificity: 81.48%\n"
     ]
    },
    {
     "data": {
      "image/png": "[encoded data removed]",
      "text/plain": [
       "<Figure size 432x288 with 2 Axes>"
      ]
     },
     "metadata": {
      "needs_background": "light"
     },
     "output_type": "display_data"
    }
   ],
   "source": [
    "modelBuild(svm.SVC(C=1.0, kernel='linear', degree=3, gamma='auto'), Tweets, train_Tweets, train_labels,\n",
    "      test_Tweets, test_labels, tfidf = False, cv = True, undersampled = True, oversample = False)"
   ]
  },
  {
   "cell_type": "markdown",
   "id": "b5be6890",
   "metadata": {},
   "source": [
    "## SVM: Count and Original data"
   ]
  },
  {
   "cell_type": "code",
   "execution_count": 61,
   "id": "c2c0e578",
   "metadata": {},
   "outputs": [
    {
     "name": "stdout",
     "output_type": "stream",
     "text": [
      "Feature Extraction using CV\n",
      "Accuracy Score ->  84.16666666666667\n",
      "F1Score 0.603547209181012\n",
      "Precision 0.603547209181012\n",
      "Recall 0.603547209181012\n",
      "Sensitivity: 91.08%\n",
      "Specificity: 29.63%\n"
     ]
    },
    {
     "data": {
      "image/png": "[encoded data removed]",
      "text/plain": [
       "<Figure size 432x288 with 2 Axes>"
      ]
     },
     "metadata": {
      "needs_background": "light"
     },
     "output_type": "display_data"
    }
   ],
   "source": [
    "modelBuild(svm.SVC(C=1.0, kernel='linear', degree=3, gamma='auto'), Tweets, train_Tweets, train_labels,\n",
    "      test_Tweets, test_labels, tfidf = False, cv = True, undersampled = False, oversample = False)"
   ]
  },
  {
   "cell_type": "markdown",
   "id": "b963a5f4",
   "metadata": {},
   "source": [
    "## SVM: TFIDF and Original dataset"
   ]
  },
  {
   "cell_type": "code",
   "execution_count": 62,
   "id": "b06625a0",
   "metadata": {},
   "outputs": [
    {
     "name": "stdout",
     "output_type": "stream",
     "text": [
      "Feature Extraction using TFIFD\n",
      "Accuracy Score ->  88.75\n",
      "F1Score 0.47019867549668876\n",
      "Precision 0.5\n",
      "Recall 0.44375\n",
      "Sensitivity: 100.00%\n",
      "Specificity: 0.00%\n"
     ]
    },
    {
     "name": "stderr",
     "output_type": "stream",
     "text": [
      "/Users/shaoxing/opt/anaconda3/lib/python3.8/site-packages/sklearn/metrics/_classification.py:1327: UndefinedMetricWarning: Recall is ill-defined and being set to 0.0 in labels with no true samples. Use `zero_division` parameter to control this behavior.\n",
      "  _warn_prf(average, modifier, msg_start, len(result))\n"
     ]
    },
    {
     "data": {
      "image/png": "[encoded data removed]",
      "text/plain": [
       "<Figure size 432x288 with 2 Axes>"
      ]
     },
     "metadata": {
      "needs_background": "light"
     },
     "output_type": "display_data"
    }
   ],
   "source": [
    "modelBuild(svm.SVC(C=1.0, kernel='linear', degree=3, gamma='auto'), Tweets, train_Tweets, train_labels,\n",
    "      test_Tweets, test_labels, tfidf = True, cv = False, undersampled = False, oversample = False)"
   ]
  },
  {
   "cell_type": "markdown",
   "id": "34687d4b",
   "metadata": {},
   "source": [
    "## SVM:Oversampling and TFIDF"
   ]
  },
  {
   "cell_type": "code",
   "execution_count": 63,
   "id": "f05aec35",
   "metadata": {},
   "outputs": [
    {
     "name": "stdout",
     "output_type": "stream",
     "text": [
      "Feature Extraction using TFIFD\n",
      "Oversampling the dataset\n"
     ]
    },
    {
     "name": "stderr",
     "output_type": "stream",
     "text": [
      "/Users/shaoxing/opt/anaconda3/lib/python3.8/site-packages/imblearn/utils/_validation.py:586: FutureWarning: Pass sampling_strategy=minority as keyword args. From version 0.9 passing these as positional arguments will result in an error\n",
      "  warnings.warn(\n"
     ]
    },
    {
     "name": "stdout",
     "output_type": "stream",
     "text": [
      "Accuracy Score ->  83.75\n",
      "F1Score 0.599572192513369\n",
      "Precision 0.6011997913406364\n",
      "Recall 0.5980458221024259\n",
      "Sensitivity: 90.61%\n",
      "Specificity: 29.63%\n"
     ]
    },
    {
     "data": {
      "image/png": "[encoded data removed]",
      "text/plain": [
       "<Figure size 432x288 with 2 Axes>"
      ]
     },
     "metadata": {
      "needs_background": "light"
     },
     "output_type": "display_data"
    }
   ],
   "source": [
    "modelBuild(svm.SVC(C=1.0, kernel='linear', degree=3, gamma='auto'), Tweets, train_Tweets, train_labels,\n",
    "      test_Tweets, test_labels, tfidf = True, cv = False, undersampled = False, oversample = True)"
   ]
  },
  {
   "cell_type": "markdown",
   "id": "f639b956",
   "metadata": {},
   "source": [
    "## SVM:Oversampling and Count"
   ]
  },
  {
   "cell_type": "code",
   "execution_count": 64,
   "id": "896fddae",
   "metadata": {},
   "outputs": [
    {
     "name": "stdout",
     "output_type": "stream",
     "text": [
      "Feature Extraction using CV\n",
      "Oversampling the dataset\n"
     ]
    },
    {
     "name": "stderr",
     "output_type": "stream",
     "text": [
      "/Users/shaoxing/opt/anaconda3/lib/python3.8/site-packages/imblearn/utils/_validation.py:586: FutureWarning: Pass sampling_strategy=minority as keyword args. From version 0.9 passing these as positional arguments will result in an error\n",
      "  warnings.warn(\n"
     ]
    },
    {
     "name": "stdout",
     "output_type": "stream",
     "text": [
      "Accuracy Score ->  82.5\n",
      "F1Score 0.6402055968018275\n",
      "Precision 0.6750130412102243\n",
      "Recall 0.6233607059688687\n",
      "Sensitivity: 86.85%\n",
      "Specificity: 48.15%\n"
     ]
    },
    {
     "data": {
      "image/png": "[encoded data removed]",
      "text/plain": [
       "<Figure size 432x288 with 2 Axes>"
      ]
     },
     "metadata": {
      "needs_background": "light"
     },
     "output_type": "display_data"
    }
   ],
   "source": [
    "modelBuild(svm.SVC(C=1.0, kernel='linear', degree=3, gamma='auto'), Tweets, train_Tweets, train_labels,\n",
    "      test_Tweets, test_labels, tfidf = False, cv = True, undersampled = False, oversample = True)"
   ]
  },
  {
   "cell_type": "markdown",
   "id": "2a2e6ae0",
   "metadata": {},
   "source": [
    "## Random Forest: Count and Oversampling"
   ]
  },
  {
   "cell_type": "code",
   "execution_count": 66,
   "id": "a813a8f8",
   "metadata": {},
   "outputs": [
    {
     "name": "stdout",
     "output_type": "stream",
     "text": [
      "Feature Extraction using CV\n",
      "Oversampling the dataset\n"
     ]
    },
    {
     "name": "stderr",
     "output_type": "stream",
     "text": [
      "/Users/shaoxing/opt/anaconda3/lib/python3.8/site-packages/imblearn/utils/_validation.py:586: FutureWarning: Pass sampling_strategy=minority as keyword args. From version 0.9 passing these as positional arguments will result in an error\n",
      "  warnings.warn(\n"
     ]
    },
    {
     "name": "stdout",
     "output_type": "stream",
     "text": [
      "Accuracy Score ->  70.83333333333334\n",
      "F1Score 0.5578947368421052\n",
      "Precision 0.6416275430359937\n",
      "Recall 0.5668115823148224\n",
      "Sensitivity: 72.77%\n",
      "Specificity: 55.56%\n"
     ]
    },
    {
     "data": {
      "image/png": "[encoded data removed]",
      "text/plain": [
       "<Figure size 432x288 with 2 Axes>"
      ]
     },
     "metadata": {
      "needs_background": "light"
     },
     "output_type": "display_data"
    }
   ],
   "source": [
    "modelBuild(RandomForestClassifier(n_estimators=100, max_depth=4,random_state=0), Tweets, train_Tweets, train_labels,\n",
    "      test_Tweets, test_labels, tfidf = False, cv = True, undersampled = False, oversample = True)\n"
   ]
  },
  {
   "cell_type": "markdown",
   "id": "f746074f",
   "metadata": {},
   "source": [
    "## Random Forest: Count and Undersampling"
   ]
  },
  {
   "cell_type": "code",
   "execution_count": 67,
   "id": "95889cf0",
   "metadata": {},
   "outputs": [
    {
     "name": "stdout",
     "output_type": "stream",
     "text": [
      "Feature Extraction using CV\n",
      "Undersampling the dataset\n",
      "Accuracy Score ->  59.166666666666664\n",
      "F1Score 0.5016526824307145\n",
      "Precision 0.656755346896192\n",
      "Recall 0.5629583071443537\n",
      "Sensitivity: 57.28%\n",
      "Specificity: 74.07%\n"
     ]
    },
    {
     "data": {
      "image/png": "[encoded data removed]",
      "text/plain": [
       "<Figure size 432x288 with 2 Axes>"
      ]
     },
     "metadata": {
      "needs_background": "light"
     },
     "output_type": "display_data"
    }
   ],
   "source": [
    "modelBuild(RandomForestClassifier(n_estimators=100, max_depth=4,random_state=0), Tweets, train_Tweets, train_labels,\n",
    "      test_Tweets, test_labels, tfidf = False, cv = True, undersampled = True, oversample = False)\n"
   ]
  },
  {
   "cell_type": "markdown",
   "id": "9671e8bc",
   "metadata": {},
   "source": [
    "## Random Forest: Count and Original Data"
   ]
  },
  {
   "cell_type": "code",
   "execution_count": 68,
   "id": "6a36372c",
   "metadata": {},
   "outputs": [
    {
     "name": "stdout",
     "output_type": "stream",
     "text": [
      "Feature Extraction using CV\n",
      "Accuracy Score ->  88.75\n",
      "F1Score 0.47019867549668876\n",
      "Precision 0.5\n",
      "Recall 0.44375\n",
      "Sensitivity: 100.00%\n",
      "Specificity: 0.00%\n"
     ]
    },
    {
     "name": "stderr",
     "output_type": "stream",
     "text": [
      "/Users/shaoxing/opt/anaconda3/lib/python3.8/site-packages/sklearn/metrics/_classification.py:1327: UndefinedMetricWarning: Recall is ill-defined and being set to 0.0 in labels with no true samples. Use `zero_division` parameter to control this behavior.\n",
      "  _warn_prf(average, modifier, msg_start, len(result))\n"
     ]
    },
    {
     "data": {
      "image/png": "[encoded data removed]",
      "text/plain": [
       "<Figure size 432x288 with 2 Axes>"
      ]
     },
     "metadata": {
      "needs_background": "light"
     },
     "output_type": "display_data"
    }
   ],
   "source": [
    "modelBuild(RandomForestClassifier(n_estimators=100, max_depth=4,random_state=0), Tweets, train_Tweets, train_labels,\n",
    "      test_Tweets, test_labels, tfidf = False, cv = True, undersampled = False, oversample = False)\n"
   ]
  },
  {
   "cell_type": "markdown",
   "id": "61b377c9",
   "metadata": {},
   "source": [
    "## Random Forest: TFIDF and Original Data"
   ]
  },
  {
   "cell_type": "code",
   "execution_count": 69,
   "id": "4e5e8dba",
   "metadata": {},
   "outputs": [
    {
     "name": "stdout",
     "output_type": "stream",
     "text": [
      "Feature Extraction using TFIFD\n",
      "Accuracy Score ->  88.75\n",
      "F1Score 0.47019867549668876\n",
      "Precision 0.5\n",
      "Recall 0.44375\n",
      "Sensitivity: 100.00%\n",
      "Specificity: 0.00%\n"
     ]
    },
    {
     "name": "stderr",
     "output_type": "stream",
     "text": [
      "/Users/shaoxing/opt/anaconda3/lib/python3.8/site-packages/sklearn/metrics/_classification.py:1327: UndefinedMetricWarning: Recall is ill-defined and being set to 0.0 in labels with no true samples. Use `zero_division` parameter to control this behavior.\n",
      "  _warn_prf(average, modifier, msg_start, len(result))\n"
     ]
    },
    {
     "data": {
      "image/png": "[encoded data removed]",
      "text/plain": [
       "<Figure size 432x288 with 2 Axes>"
      ]
     },
     "metadata": {
      "needs_background": "light"
     },
     "output_type": "display_data"
    }
   ],
   "source": [
    "modelBuild(RandomForestClassifier(n_estimators=100, max_depth=4,random_state=0), Tweets, train_Tweets, train_labels,\n",
    "      test_Tweets, test_labels, tfidf = True, cv = False, undersampled = False, oversample = False)\n"
   ]
  },
  {
   "cell_type": "markdown",
   "id": "b2c80edb",
   "metadata": {},
   "source": [
    "## Random Forest: TFIDF and Undersampling"
   ]
  },
  {
   "cell_type": "code",
   "execution_count": 70,
   "id": "a668bb0c",
   "metadata": {},
   "outputs": [
    {
     "name": "stdout",
     "output_type": "stream",
     "text": [
      "Feature Extraction using TFIFD\n",
      "Undersampling the dataset\n",
      "Accuracy Score ->  66.66666666666666\n",
      "F1Score 0.5452823039029936\n",
      "Precision 0.6666666666666666\n",
      "Recall 0.5713222710023067\n",
      "Sensitivity: 66.67%\n",
      "Specificity: 66.67%\n"
     ]
    },
    {
     "data": {
      "image/png": "[encoded data removed]",
      "text/plain": [
       "<Figure size 432x288 with 2 Axes>"
      ]
     },
     "metadata": {
      "needs_background": "light"
     },
     "output_type": "display_data"
    }
   ],
   "source": [
    "modelBuild(RandomForestClassifier(n_estimators=100, max_depth=4,random_state=0), Tweets, train_Tweets, train_labels,\n",
    "      test_Tweets, test_labels, tfidf = True, cv = False, undersampled = True, oversample = False)\n"
   ]
  },
  {
   "cell_type": "markdown",
   "id": "3a1aea12",
   "metadata": {},
   "source": [
    "## Random Forest: TFIDF and Oversampling"
   ]
  },
  {
   "cell_type": "code",
   "execution_count": 71,
   "id": "36ebb6f0",
   "metadata": {},
   "outputs": [
    {
     "name": "stdout",
     "output_type": "stream",
     "text": [
      "Feature Extraction using TFIFD\n",
      "Oversampling the dataset\n"
     ]
    },
    {
     "name": "stderr",
     "output_type": "stream",
     "text": [
      "/Users/shaoxing/opt/anaconda3/lib/python3.8/site-packages/imblearn/utils/_validation.py:586: FutureWarning: Pass sampling_strategy=minority as keyword args. From version 0.9 passing these as positional arguments will result in an error\n",
      "  warnings.warn(\n"
     ]
    },
    {
     "name": "stdout",
     "output_type": "stream",
     "text": [
      "Accuracy Score ->  79.58333333333333\n",
      "F1Score 0.5950273769757911\n",
      "Precision 0.6262389149713093\n",
      "Recall 0.5841836734693877\n",
      "Sensitivity: 84.51%\n",
      "Specificity: 40.74%\n"
     ]
    },
    {
     "data": {
      "image/png": "[encoded data removed]",
      "text/plain": [
       "<Figure size 432x288 with 2 Axes>"
      ]
     },
     "metadata": {
      "needs_background": "light"
     },
     "output_type": "display_data"
    }
   ],
   "source": [
    "modelBuild(RandomForestClassifier(n_estimators=100, max_depth=4,random_state=0), Tweets, train_Tweets, train_labels,\n",
    "      test_Tweets, test_labels, tfidf = True, cv = False, undersampled = False, oversample = True)\n"
   ]
  },
  {
   "cell_type": "markdown",
   "id": "5babde3b",
   "metadata": {},
   "source": [
    "## Deep learning"
   ]
  },
  {
   "cell_type": "code",
   "execution_count": 80,
   "id": "77981aeb",
   "metadata": {},
   "outputs": [],
   "source": [
    "## split dataset into training set and validation set\n",
    "from sklearn.model_selection import train_test_split\n",
    "training_Tweets, val_Tweets, training_labels, val_labels = train_test_split(train_Tweets, train_labels, stratify=train_labels, test_size=0.2)\n",
    "\n"
   ]
  },
  {
   "cell_type": "markdown",
   "id": "c50f8e08",
   "metadata": {},
   "source": [
    "## Tokenize tweets"
   ]
  },
  {
   "cell_type": "code",
   "execution_count": 83,
   "id": "1d30def5",
   "metadata": {},
   "outputs": [],
   "source": [
    "max_features = 50000 \n",
    "maxlen = 100"
   ]
  },
  {
   "cell_type": "code",
   "execution_count": 85,
   "id": "45203d8a",
   "metadata": {},
   "outputs": [],
   "source": [
    "from keras.preprocessing.text import Tokenizer\n",
    "tokenizer = Tokenizer(num_words=max_features)\n",
    "tokenizer.fit_on_texts(list(training_Tweets))\n",
    "training_Tweets = tokenizer.texts_to_sequences(training_Tweets)\n",
    "val_Tweets = tokenizer.texts_to_sequences(val_Tweets)\n",
    "test_Tweets = tokenizer.texts_to_sequences(test_Tweets)"
   ]
  },
  {
   "cell_type": "markdown",
   "id": "dd10307c",
   "metadata": {},
   "source": [
    "## Padding Tweets"
   ]
  },
  {
   "cell_type": "code",
   "execution_count": 88,
   "id": "ac5ccf89",
   "metadata": {},
   "outputs": [],
   "source": [
    "training_Tweets = pad_sequences(training_Tweets, maxlen=maxlen)\n",
    "test_Tweets = pad_sequences(test_Tweets, maxlen=maxlen)\n",
    "val_Tweets = pad_sequences(val_Tweets, maxlen=maxlen)"
   ]
  },
  {
   "cell_type": "code",
   "execution_count": 89,
   "id": "cd7cdd5c",
   "metadata": {},
   "outputs": [],
   "source": [
    "S_DROPOUT = 0.4\n",
    "DROPOUT = 0.1"
   ]
  },
  {
   "cell_type": "code",
   "execution_count": 90,
   "id": "0d16fd2e",
   "metadata": {},
   "outputs": [],
   "source": [
    "def plot(history):\n",
    "    plt.plot(history.history['accuracy'])\n",
    "    plt.plot(history.history['val_accuracy'])\n",
    "    plt.title('model accuracy')\n",
    "    plt.ylabel('accuracy')\n",
    "    plt.xlabel('epoch')\n",
    "    plt.legend(['train', 'test'], loc='upper left')\n",
    "    plt.show()\n",
    "\n",
    "    # summarize history for loss\n",
    "    plt.plot(history.history['loss'])\n",
    "    plt.plot(history.history['val_loss'])\n",
    "    plt.title('model loss')\n",
    "    plt.ylabel('loss')\n",
    "    plt.xlabel('epoch')\n",
    "    plt.legend(['train', 'test'], loc='upper left')\n",
    "    plt.show()    "
   ]
  },
  {
   "cell_type": "code",
   "execution_count": 91,
   "id": "e002be7c",
   "metadata": {},
   "outputs": [
    {
     "name": "stdout",
     "output_type": "stream",
     "text": [
      "Model: \"model\"\n",
      "_________________________________________________________________\n",
      " Layer (type)                Output Shape              Param #   \n",
      "=================================================================\n",
      " input_1 (InputLayer)        [(None, 100)]             0         \n",
      "                                                                 \n",
      " embedding (Embedding)       (None, 100, 100)          5000000   \n",
      "                                                                 \n",
      " bidirectional (Bidirectiona  (None, 100, 128)         84480     \n",
      " l)                                                              \n",
      "                                                                 \n",
      " global_max_pooling1d (Globa  (None, 128)              0         \n",
      " lMaxPooling1D)                                                  \n",
      "                                                                 \n",
      " dense (Dense)               (None, 16)                2064      \n",
      "                                                                 \n",
      " dropout (Dropout)           (None, 16)                0         \n",
      "                                                                 \n",
      " dense_1 (Dense)             (None, 1)                 17        \n",
      "                                                                 \n",
      "=================================================================\n",
      "Total params: 5,086,561\n",
      "Trainable params: 5,086,561\n",
      "Non-trainable params: 0\n",
      "_________________________________________________________________\n",
      "None\n"
     ]
    }
   ],
   "source": [
    "embed_size = 100\n",
    "inp = Input(shape=(maxlen,))\n",
    "x = Embedding(max_features, embed_size)(inp)\n",
    "\n",
    "x = Bidirectional(LSTM(64, return_sequences=True))(x)\n",
    "x = GlobalMaxPool1D()(x)\n",
    "x = Dense(16, activation=\"relu\")(x)\n",
    "x = Dropout(0.1)(x)\n",
    "x = Dense(1, activation=\"sigmoid\")(x)\n",
    "model = Model(inputs=inp, outputs=x)\n",
    "model.compile(loss='binary_crossentropy', optimizer='adam', metrics=['accuracy'])\n",
    "print(model.summary())"
   ]
  },
  {
   "cell_type": "code",
   "execution_count": 93,
   "id": "d394162c",
   "metadata": {},
   "outputs": [
    {
     "name": "stdout",
     "output_type": "stream",
     "text": [
      "Epoch 1/10\n",
      "7/7 [==============================] - 3s 456ms/step - loss: 0.3188 - accuracy: 0.8810 - val_loss: 0.3411 - val_accuracy: 0.8807\n",
      "Epoch 2/10\n",
      "7/7 [==============================] - 3s 449ms/step - loss: 0.2782 - accuracy: 0.8810 - val_loss: 0.3591 - val_accuracy: 0.8807\n",
      "Epoch 3/10\n",
      "7/7 [==============================] - 3s 450ms/step - loss: 0.2206 - accuracy: 0.8810 - val_loss: 0.4240 - val_accuracy: 0.8807\n",
      "Epoch 4/10\n",
      "7/7 [==============================] - 3s 461ms/step - loss: 0.1775 - accuracy: 0.9193 - val_loss: 0.4535 - val_accuracy: 0.8091\n",
      "Epoch 5/10\n",
      "7/7 [==============================] - 3s 448ms/step - loss: 0.1707 - accuracy: 0.9261 - val_loss: 0.4877 - val_accuracy: 0.7989\n",
      "Epoch 6/10\n",
      "7/7 [==============================] - 3s 452ms/step - loss: 0.1575 - accuracy: 0.9384 - val_loss: 0.5202 - val_accuracy: 0.8159\n",
      "Epoch 7/10\n",
      "7/7 [==============================] - 3s 449ms/step - loss: 0.1478 - accuracy: 0.9460 - val_loss: 0.5263 - val_accuracy: 0.8080\n",
      "Epoch 8/10\n",
      "7/7 [==============================] - 3s 449ms/step - loss: 0.1380 - accuracy: 0.9489 - val_loss: 0.5256 - val_accuracy: 0.8182\n",
      "Epoch 9/10\n",
      "7/7 [==============================] - 3s 464ms/step - loss: 0.1204 - accuracy: 0.9557 - val_loss: 0.5479 - val_accuracy: 0.8011\n",
      "Epoch 10/10\n",
      "7/7 [==============================] - 3s 457ms/step - loss: 0.1138 - accuracy: 0.9565 - val_loss: 0.5594 - val_accuracy: 0.8239\n"
     ]
    },
    {
     "data": {
      "image/png": "[encoded data removed]",
      "text/plain": [
       "<Figure size 432x288 with 1 Axes>"
      ]
     },
     "metadata": {
      "needs_background": "light"
     },
     "output_type": "display_data"
    },
    {
     "data": {
      "image/png": "[encoded data removed]",
      "text/plain": [
       "<Figure size 432x288 with 1 Axes>"
      ]
     },
     "metadata": {
      "needs_background": "light"
     },
     "output_type": "display_data"
    },
    {
     "name": "stdout",
     "output_type": "stream",
     "text": [
      "Test Accuracy: 83.749998\n"
     ]
    }
   ],
   "source": [
    "#Tweets_resampled, labels_resampled = training_Tweets, training_labels\n",
    "\n",
    "history = model.fit(training_Tweets, training_labels, batch_size=512, epochs=10, validation_data=(val_Tweets, val_labels))\n",
    "plot(history)\n",
    "\n",
    "loss, accuracy = model.evaluate(test_Tweets, test_labels, verbose=0)\n",
    "print('Test Accuracy: %f' % (accuracy*100))\n"
   ]
  },
  {
   "cell_type": "code",
   "execution_count": 95,
   "id": "b0cff8fa",
   "metadata": {},
   "outputs": [
    {
     "name": "stdout",
     "output_type": "stream",
     "text": [
      "1/1 [==============================] - 1s 787ms/step\n"
     ]
    }
   ],
   "source": [
    "pred_val_labels = model.predict([val_Tweets], batch_size=1024, verbose=1)"
   ]
  },
  {
   "cell_type": "code",
   "execution_count": 97,
   "id": "342da889",
   "metadata": {},
   "outputs": [
    {
     "name": "stdout",
     "output_type": "stream",
     "text": [
      "F1 score at threshold 0.1 is 0.9365558912386707\n",
      "F1 score at threshold 0.11 is 0.9365558912386707\n",
      "F1 score at threshold 0.12 is 0.9365558912386707\n",
      "F1 score at threshold 0.13 is 0.9365558912386707\n",
      "F1 score at threshold 0.14 is 0.9365558912386707\n",
      "F1 score at threshold 0.15 is 0.9365558912386707\n",
      "F1 score at threshold 0.16 is 0.9365558912386707\n",
      "F1 score at threshold 0.17 is 0.9365558912386707\n",
      "F1 score at threshold 0.18 is 0.9365558912386707\n",
      "F1 score at threshold 0.19 is 0.9365558912386707\n",
      "F1 score at threshold 0.2 is 0.9365558912386707\n",
      "F1 score at threshold 0.21 is 0.9365558912386707\n",
      "F1 score at threshold 0.22 is 0.9365558912386707\n",
      "F1 score at threshold 0.23 is 0.9365558912386707\n",
      "F1 score at threshold 0.24 is 0.9365558912386707\n",
      "F1 score at threshold 0.25 is 0.9365558912386707\n",
      "F1 score at threshold 0.26 is 0.9365558912386707\n",
      "F1 score at threshold 0.27 is 0.9365558912386707\n",
      "F1 score at threshold 0.28 is 0.935912938331318\n",
      "F1 score at threshold 0.29 is 0.934065934065934\n",
      "F1 score at threshold 0.3 is 0.9213483146067416\n",
      "F1 score at threshold 0.31 is 0.9068877551020408\n",
      "F1 score at threshold 0.32 is 0.9037227214377407\n",
      "F1 score at threshold 0.33 is 0.9028938906752413\n",
      "F1 score at threshold 0.34 is 0.9007731958762887\n",
      "F1 score at threshold 0.35 is 0.9000644745325597\n",
      "F1 score at threshold 0.36 is 0.9000644745325597\n",
      "F1 score at threshold 0.37 is 0.9000644745325597\n",
      "F1 score at threshold 0.38 is 0.9000644745325597\n",
      "F1 score at threshold 0.39 is 0.9000644745325597\n",
      "F1 score at threshold 0.4 is 0.9000644745325597\n",
      "F1 score at threshold 0.41 is 0.9000644745325597\n",
      "F1 score at threshold 0.42 is 0.9000644745325597\n",
      "F1 score at threshold 0.43 is 0.9000644745325597\n",
      "F1 score at threshold 0.44 is 0.9000644745325597\n",
      "F1 score at threshold 0.45 is 0.9000644745325597\n",
      "F1 score at threshold 0.46 is 0.9000644745325597\n",
      "F1 score at threshold 0.47 is 0.9000644745325597\n",
      "F1 score at threshold 0.48 is 0.9000644745325597\n",
      "F1 score at threshold 0.49 is 0.9000644745325597\n",
      "F1 score at threshold 0.5 is 0.9000644745325597\n",
      "Best threshold:  0.1\n"
     ]
    }
   ],
   "source": [
    "from sklearn import metrics\n",
    "thresholds = []\n",
    "for thresh in np.arange(0.1, 0.501, 0.01):\n",
    "    thresh = np.round(thresh, 2)\n",
    "    res = metrics.f1_score(val_labels, (pred_val_labels > thresh).astype(int))\n",
    "    thresholds.append([thresh, res])\n",
    "    print(\"F1 score at threshold {0} is {1}\".format(thresh, res))\n",
    "    \n",
    "thresholds.sort(key=lambda x: x[1], reverse=True)\n",
    "best_thresh = thresholds[0][0]\n",
    "print(\"Best threshold: \", best_thresh)"
   ]
  },
  {
   "cell_type": "code",
   "execution_count": 98,
   "id": "fafc1488",
   "metadata": {},
   "outputs": [
    {
     "name": "stdout",
     "output_type": "stream",
     "text": [
      "1/1 [==============================] - 0s 123ms/step\n",
      "[[  1 240]]\n"
     ]
    }
   ],
   "source": [
    "pred_test_labels = model.predict([test_Tweets], batch_size=1024, verbose=1)\n",
    "pred_test_labels =  (pred_test_labels > best_thresh).astype(int)\n",
    "\n",
    "unique, counts = np.unique(pred_test_labels, return_counts=True)\n",
    "print(np.asarray((unique, counts)).T)"
   ]
  },
  {
   "cell_type": "code",
   "execution_count": 99,
   "id": "65eba5e6",
   "metadata": {},
   "outputs": [
    {
     "name": "stdout",
     "output_type": "stream",
     "text": [
      "Sensitivity: 100.00%\n",
      "Specificity: 0.00%\n"
     ]
    },
    {
     "data": {
      "image/png": "[encoded data removed]",
      "text/plain": [
       "<Figure size 432x288 with 2 Axes>"
      ]
     },
     "metadata": {
      "needs_background": "light"
     },
     "output_type": "display_data"
    }
   ],
   "source": [
    "confusionMatrix(test_labels, pred_test_labels)"
   ]
  },
  {
   "cell_type": "code",
   "execution_count": 100,
   "id": "f3d24a34",
   "metadata": {},
   "outputs": [
    {
     "name": "stdout",
     "output_type": "stream",
     "text": [
      "0.47019867549668876\n",
      "0.5\n",
      "0.44375\n"
     ]
    },
    {
     "name": "stderr",
     "output_type": "stream",
     "text": [
      "/Users/shaoxing/opt/anaconda3/lib/python3.8/site-packages/sklearn/metrics/_classification.py:1327: UndefinedMetricWarning: Recall is ill-defined and being set to 0.0 in labels with no true samples. Use `zero_division` parameter to control this behavior.\n",
      "  _warn_prf(average, modifier, msg_start, len(result))\n"
     ]
    }
   ],
   "source": [
    "print(f1_score(pred_test_labels, test_labels, average=\"macro\"))\n",
    "print(precision_score(pred_test_labels, test_labels, average=\"macro\"))\n",
    "print(recall_score(pred_test_labels, test_labels, average=\"macro\"))"
   ]
  },
  {
   "cell_type": "markdown",
   "id": "ddb3efef",
   "metadata": {},
   "source": [
    "##  GloVe Embeddings"
   ]
  },
  {
   "cell_type": "code",
   "execution_count": 102,
   "id": "2ca2cac4",
   "metadata": {},
   "outputs": [],
   "source": [
    "from numpy import asarray\n",
    "embed_size = 200\n",
    "\n",
    "embeddings_index = dict()\n",
    "root=\"/Users/shaoxing/Desktop/dataset/\"\n",
    "f = open(root+'glove.twitter.27B.200d.txt', encoding=\"utf8\")\n",
    "for line in f:\n",
    "    values = line.split()\n",
    "    word = values[0]\n",
    "    coefs = asarray(values[1:], dtype='float32')\n",
    "    embeddings_index[word] = coefs\n",
    "f.close()"
   ]
  },
  {
   "cell_type": "code",
   "execution_count": 103,
   "id": "fa3f0121",
   "metadata": {},
   "outputs": [],
   "source": [
    "from numpy import zeros\n",
    "\n",
    "\n",
    "embedding_matrix = zeros((max_features, embed_size))\n",
    "for word, i in tokenizer.word_index.items():\n",
    "    \n",
    "    if i >= max_features: continue\n",
    "    embedding_vector = embeddings_index.get(word)\n",
    "    if embedding_vector is not None:\n",
    "        \n",
    "        embedding_matrix[i] = embedding_vector"
   ]
  },
  {
   "cell_type": "code",
   "execution_count": 104,
   "id": "58caba7d",
   "metadata": {},
   "outputs": [
    {
     "name": "stdout",
     "output_type": "stream",
     "text": [
      "Model: \"model_1\"\n",
      "_________________________________________________________________\n",
      " Layer (type)                Output Shape              Param #   \n",
      "=================================================================\n",
      " input_2 (InputLayer)        [(None, 100)]             0         \n",
      "                                                                 \n",
      " embedding_1 (Embedding)     (None, 100, 200)          10000000  \n",
      "                                                                 \n",
      " bidirectional_1 (Bidirectio  (None, 100, 128)         135680    \n",
      " nal)                                                            \n",
      "                                                                 \n",
      " global_max_pooling1d_1 (Glo  (None, 128)              0         \n",
      " balMaxPooling1D)                                                \n",
      "                                                                 \n",
      " dense_2 (Dense)             (None, 16)                2064      \n",
      "                                                                 \n",
      " dropout_1 (Dropout)         (None, 16)                0         \n",
      "                                                                 \n",
      " dense_3 (Dense)             (None, 1)                 17        \n",
      "                                                                 \n",
      "=================================================================\n",
      "Total params: 10,137,761\n",
      "Trainable params: 10,137,761\n",
      "Non-trainable params: 0\n",
      "_________________________________________________________________\n",
      "None\n"
     ]
    }
   ],
   "source": [
    "inp = Input(shape=(maxlen,))\n",
    "x = Embedding(max_features, embed_size, weights=[embedding_matrix])(inp)\n",
    "x = Bidirectional(LSTM(64, return_sequences=True))(x)\n",
    "x = GlobalMaxPool1D()(x)\n",
    "x = Dense(16, activation=\"relu\")(x)\n",
    "x = Dropout(0.1)(x)\n",
    "x = Dense(1, activation=\"sigmoid\")(x)\n",
    "model = Model(inputs=inp, outputs=x)\n",
    "model.compile(loss='binary_crossentropy', optimizer='adam', metrics=['accuracy'])\n",
    "print(model.summary())"
   ]
  },
  {
   "cell_type": "code",
   "execution_count": 106,
   "id": "83f69f8e",
   "metadata": {},
   "outputs": [
    {
     "name": "stdout",
     "output_type": "stream",
     "text": [
      "Epoch 1/10\n",
      "7/7 [==============================] - 7s 709ms/step - loss: 0.7066 - accuracy: 0.5199 - val_loss: 0.5800 - val_accuracy: 0.8807\n",
      "Epoch 2/10\n",
      "7/7 [==============================] - 4s 608ms/step - loss: 0.4986 - accuracy: 0.8810 - val_loss: 0.3959 - val_accuracy: 0.8807\n",
      "Epoch 3/10\n",
      "7/7 [==============================] - 4s 609ms/step - loss: 0.3744 - accuracy: 0.8810 - val_loss: 0.3525 - val_accuracy: 0.8807\n",
      "Epoch 4/10\n",
      "7/7 [==============================] - 4s 638ms/step - loss: 0.3661 - accuracy: 0.8810 - val_loss: 0.3598 - val_accuracy: 0.8807\n",
      "Epoch 5/10\n",
      "7/7 [==============================] - 4s 645ms/step - loss: 0.3646 - accuracy: 0.8810 - val_loss: 0.3545 - val_accuracy: 0.8807\n",
      "Epoch 6/10\n",
      "7/7 [==============================] - 4s 608ms/step - loss: 0.3586 - accuracy: 0.8810 - val_loss: 0.3483 - val_accuracy: 0.8807\n",
      "Epoch 7/10\n",
      "7/7 [==============================] - 4s 600ms/step - loss: 0.3537 - accuracy: 0.8810 - val_loss: 0.3466 - val_accuracy: 0.8807\n",
      "Epoch 8/10\n",
      "7/7 [==============================] - 4s 600ms/step - loss: 0.3480 - accuracy: 0.8810 - val_loss: 0.3449 - val_accuracy: 0.8807\n",
      "Epoch 9/10\n",
      "7/7 [==============================] - 4s 632ms/step - loss: 0.3420 - accuracy: 0.8810 - val_loss: 0.3424 - val_accuracy: 0.8807\n",
      "Epoch 10/10\n",
      "7/7 [==============================] - 4s 613ms/step - loss: 0.3414 - accuracy: 0.8810 - val_loss: 0.3406 - val_accuracy: 0.8807\n"
     ]
    },
    {
     "data": {
      "image/png": "[encoded data removed]",
      "text/plain": [
       "<Figure size 432x288 with 1 Axes>"
      ]
     },
     "metadata": {
      "needs_background": "light"
     },
     "output_type": "display_data"
    },
    {
     "data": {
      "image/png": "[encoded data removed]",
      "text/plain": [
       "<Figure size 432x288 with 1 Axes>"
      ]
     },
     "metadata": {
      "needs_background": "light"
     },
     "output_type": "display_data"
    },
    {
     "name": "stdout",
     "output_type": "stream",
     "text": [
      "Test Accuracy: 88.749999\n"
     ]
    }
   ],
   "source": [
    "history = model.fit(training_Tweets, training_labels, batch_size=512, epochs=10, validation_data=(val_Tweets, val_labels))\n",
    "plot(history)\n",
    "\n",
    "loss, accuracy = model.evaluate(test_Tweets, test_labels, verbose=0)\n",
    "print('Test Accuracy: %f' % (accuracy*100))"
   ]
  },
  {
   "cell_type": "code",
   "execution_count": 107,
   "id": "cdd07f8d",
   "metadata": {},
   "outputs": [
    {
     "name": "stdout",
     "output_type": "stream",
     "text": [
      "1/1 [==============================] - 1s 875ms/step\n",
      "F1 score at threshold 0.1 is 0.9365558912386707\n",
      "F1 score at threshold 0.11 is 0.9365558912386707\n",
      "F1 score at threshold 0.12 is 0.9365558912386707\n",
      "F1 score at threshold 0.13 is 0.9365558912386707\n",
      "F1 score at threshold 0.14 is 0.9365558912386707\n",
      "F1 score at threshold 0.15 is 0.9365558912386707\n",
      "F1 score at threshold 0.16 is 0.9365558912386707\n",
      "F1 score at threshold 0.17 is 0.9365558912386707\n",
      "F1 score at threshold 0.18 is 0.9365558912386707\n",
      "F1 score at threshold 0.19 is 0.9365558912386707\n",
      "F1 score at threshold 0.2 is 0.9365558912386707\n",
      "F1 score at threshold 0.21 is 0.9365558912386707\n",
      "F1 score at threshold 0.22 is 0.9365558912386707\n",
      "F1 score at threshold 0.23 is 0.9365558912386707\n",
      "F1 score at threshold 0.24 is 0.9365558912386707\n",
      "F1 score at threshold 0.25 is 0.9365558912386707\n",
      "F1 score at threshold 0.26 is 0.9365558912386707\n",
      "F1 score at threshold 0.27 is 0.9365558912386707\n",
      "F1 score at threshold 0.28 is 0.9365558912386707\n",
      "F1 score at threshold 0.29 is 0.9365558912386707\n",
      "F1 score at threshold 0.3 is 0.9365558912386707\n",
      "F1 score at threshold 0.31 is 0.9365558912386707\n",
      "F1 score at threshold 0.32 is 0.9365558912386707\n",
      "F1 score at threshold 0.33 is 0.9365558912386707\n",
      "F1 score at threshold 0.34 is 0.9365558912386707\n",
      "F1 score at threshold 0.35 is 0.9365558912386707\n",
      "F1 score at threshold 0.36 is 0.9365558912386707\n",
      "F1 score at threshold 0.37 is 0.9365558912386707\n",
      "F1 score at threshold 0.38 is 0.9365558912386707\n",
      "F1 score at threshold 0.39 is 0.9365558912386707\n",
      "F1 score at threshold 0.4 is 0.9365558912386707\n",
      "F1 score at threshold 0.41 is 0.9365558912386707\n",
      "F1 score at threshold 0.42 is 0.9365558912386707\n",
      "F1 score at threshold 0.43 is 0.9365558912386707\n",
      "F1 score at threshold 0.44 is 0.9365558912386707\n",
      "F1 score at threshold 0.45 is 0.9365558912386707\n",
      "F1 score at threshold 0.46 is 0.9365558912386707\n",
      "F1 score at threshold 0.47 is 0.9365558912386707\n",
      "F1 score at threshold 0.48 is 0.9365558912386707\n",
      "F1 score at threshold 0.49 is 0.9365558912386707\n",
      "F1 score at threshold 0.5 is 0.9365558912386707\n",
      "Best threshold:  0.1\n"
     ]
    }
   ],
   "source": [
    "pred_val_labels = model.predict([val_Tweets], batch_size=1024, verbose=1)\n",
    "\n",
    "\n",
    "thresholds = []\n",
    "for thresh in np.arange(0.1, 0.501, 0.01):\n",
    "    thresh = np.round(thresh, 2)\n",
    "    res = metrics.f1_score(val_labels, (pred_val_labels > thresh).astype(int))\n",
    "    thresholds.append([thresh, res])\n",
    "    print(\"F1 score at threshold {0} is {1}\".format(thresh, res))\n",
    "    \n",
    "thresholds.sort(key=lambda x: x[1], reverse=True)\n",
    "best_thresh = thresholds[0][0]\n",
    "print(\"Best threshold: \", best_thresh)"
   ]
  },
  {
   "cell_type": "code",
   "execution_count": 108,
   "id": "a62b5128",
   "metadata": {},
   "outputs": [
    {
     "name": "stdout",
     "output_type": "stream",
     "text": [
      "1/1 [==============================] - 0s 117ms/step\n",
      "[[  1 240]]\n"
     ]
    }
   ],
   "source": [
    "pred_test_labels = model.predict([test_Tweets], batch_size=1024, verbose=1)\n",
    "pred_test_labels = (pred_test_labels > best_thresh).astype(int)\n",
    "\n",
    "unique, counts = np.unique(pred_test_labels, return_counts=True)\n",
    "print(np.asarray((unique, counts)).T)"
   ]
  },
  {
   "cell_type": "code",
   "execution_count": 109,
   "id": "75fd8cd6",
   "metadata": {},
   "outputs": [
    {
     "name": "stdout",
     "output_type": "stream",
     "text": [
      "Sensitivity: 100.00%\n",
      "Specificity: 0.00%\n"
     ]
    },
    {
     "data": {
      "image/png": "[encoded data removed]",
      "text/plain": [
       "<Figure size 432x288 with 2 Axes>"
      ]
     },
     "metadata": {
      "needs_background": "light"
     },
     "output_type": "display_data"
    }
   ],
   "source": [
    "confusionMatrix(test_labels, pred_test_labels)"
   ]
  },
  {
   "cell_type": "code",
   "execution_count": 110,
   "id": "563780cb",
   "metadata": {},
   "outputs": [
    {
     "name": "stdout",
     "output_type": "stream",
     "text": [
      "0.47019867549668876\n",
      "0.5\n",
      "0.44375\n"
     ]
    },
    {
     "name": "stderr",
     "output_type": "stream",
     "text": [
      "/Users/shaoxing/opt/anaconda3/lib/python3.8/site-packages/sklearn/metrics/_classification.py:1327: UndefinedMetricWarning: Recall is ill-defined and being set to 0.0 in labels with no true samples. Use `zero_division` parameter to control this behavior.\n",
      "  _warn_prf(average, modifier, msg_start, len(result))\n"
     ]
    }
   ],
   "source": [
    "print(f1_score(pred_test_labels, test_labels, average=\"macro\"))\n",
    "print(precision_score(pred_test_labels, test_labels, average=\"macro\"))\n",
    "print(recall_score(pred_test_labels, test_labels, average=\"macro\"))"
   ]
  },
  {
   "cell_type": "code",
   "execution_count": 111,
   "id": "d2a21e8c",
   "metadata": {},
   "outputs": [
    {
     "data": {
      "text/html": [
       "<div>\n",
       "<style scoped>\n",
       "    .dataframe tbody tr th:only-of-type {\n",
       "        vertical-align: middle;\n",
       "    }\n",
       "\n",
       "    .dataframe tbody tr th {\n",
       "        vertical-align: top;\n",
       "    }\n",
       "\n",
       "    .dataframe thead th {\n",
       "        text-align: right;\n",
       "    }\n",
       "</style>\n",
       "<table border=\"1\" class=\"dataframe\">\n",
       "  <thead>\n",
       "    <tr style=\"text-align: right;\">\n",
       "      <th></th>\n",
       "      <th>tweet</th>\n",
       "      <th>subtask_b</th>\n",
       "      <th>predicted target</th>\n",
       "      <th>predicted target - GloVe</th>\n",
       "    </tr>\n",
       "  </thead>\n",
       "  <tbody>\n",
       "    <tr>\n",
       "      <th>0</th>\n",
       "      <td>who isq wheres the server dump nike declasfisa...</td>\n",
       "      <td>1</td>\n",
       "      <td>1</td>\n",
       "      <td>1</td>\n",
       "    </tr>\n",
       "    <tr>\n",
       "      <th>1</th>\n",
       "      <td>no pasaran unity demo to oppose the far right ...</td>\n",
       "      <td>1</td>\n",
       "      <td>1</td>\n",
       "      <td>1</td>\n",
       "    </tr>\n",
       "    <tr>\n",
       "      <th>2</th>\n",
       "      <td>what the fuck did he do this time ?</td>\n",
       "      <td>1</td>\n",
       "      <td>1</td>\n",
       "      <td>1</td>\n",
       "    </tr>\n",
       "    <tr>\n",
       "      <th>3</th>\n",
       "      <td>&lt;user&gt; do you get the feeling he is kissing &lt;u...</td>\n",
       "      <td>1</td>\n",
       "      <td>1</td>\n",
       "      <td>1</td>\n",
       "    </tr>\n",
       "    <tr>\n",
       "      <th>4</th>\n",
       "      <td>&lt;user&gt; nigga ware da hits at</td>\n",
       "      <td>0</td>\n",
       "      <td>1</td>\n",
       "      <td>1</td>\n",
       "    </tr>\n",
       "  </tbody>\n",
       "</table>\n",
       "</div>"
      ],
      "text/plain": [
       "                                               tweet  subtask_b  \\\n",
       "0  who isq wheres the server dump nike declasfisa...          1   \n",
       "1  no pasaran unity demo to oppose the far right ...          1   \n",
       "2                what the fuck did he do this time ?          1   \n",
       "3  <user> do you get the feeling he is kissing <u...          1   \n",
       "4                       <user> nigga ware da hits at          0   \n",
       "\n",
       "   predicted target  predicted target - GloVe  \n",
       "0                 1                         1  \n",
       "1                 1                         1  \n",
       "2                 1                         1  \n",
       "3                 1                         1  \n",
       "4                 1                         1  "
      ]
     },
     "execution_count": 111,
     "metadata": {},
     "output_type": "execute_result"
    }
   ],
   "source": [
    "testdf['predicted target - GloVe'] = pred_test_labels\n",
    "testdf.head()"
   ]
  },
  {
   "cell_type": "code",
   "execution_count": null,
   "id": "b4f10b32",
   "metadata": {},
   "outputs": [],
   "source": []
  }
 ],
 "metadata": {
  "kernelspec": {
   "display_name": "Python 3",
   "language": "python",
   "name": "python3"
  },
  "language_info": {
   "codemirror_mode": {
    "name": "ipython",
    "version": 3
   },
   "file_extension": ".py",
   "mimetype": "text/x-python",
   "name": "python",
   "nbconvert_exporter": "python",
   "pygments_lexer": "ipython3",
   "version": "3.8.8"
  }
 },
 "nbformat": 4,
 "nbformat_minor": 5
}
