{
 "cells": [
  {
   "cell_type": "code",
   "execution_count": 131,
   "id": "15d6873c",
   "metadata": {},
   "outputs": [
    {
     "name": "stderr",
     "output_type": "stream",
     "text": [
      "[nltk_data] Downloading package stopwords to\n",
      "[nltk_data]     /Users/shaoxing/nltk_data...\n",
      "[nltk_data]   Package stopwords is already up-to-date!\n",
      "[nltk_data] Downloading package punkt to /Users/shaoxing/nltk_data...\n",
      "[nltk_data]   Package punkt is already up-to-date!\n"
     ]
    }
   ],
   "source": [
    "import numpy as np \n",
    "import pandas as pd \n",
    "\n",
    "import matplotlib.pyplot as plt\n",
    "import seaborn as sb\n",
    "\n",
    "import os\n",
    "import nltk\n",
    "from nltk.corpus import stopwords\n",
    "import seaborn as sns\n",
    "from sklearn.metrics import f1_score\n",
    "from sklearn.model_selection import KFold\n",
    "from sklearn.feature_extraction.text import TfidfVectorizer,CountVectorizer\n",
    "from sklearn.linear_model import LogisticRegression\n",
    "from sklearn.model_selection import cross_val_score\n",
    "from sklearn.ensemble import RandomForestClassifier\n",
    "from sklearn.naive_bayes import GaussianNB,MultinomialNB,ComplementNB,BernoulliNB\n",
    "\n",
    "import re\n",
    "import emoji\n",
    "\n",
    "from collections import Counter\n",
    "from sklearn.datasets import make_classification\n",
    "\n",
    "from imblearn.under_sampling import RandomUnderSampler\n",
    "from sklearn import model_selection, naive_bayes, svm\n",
    "from sklearn.metrics import accuracy_score\n",
    "from sklearn.metrics import accuracy_score, f1_score, precision_score, recall_score, classification_report, confusion_matrix\n",
    "\n",
    "from nltk import FreqDist\n",
    "import nltk\n",
    "nltk.download('stopwords')\n",
    "nltk.download('punkt')\n",
    "from nltk.tokenize import sent_tokenize, word_tokenize\n",
    "from nltk.corpus import stopwords\n",
    "\n",
    "from keras.preprocessing.text import Tokenizer\n",
    "from keras.preprocessing.sequence import pad_sequences\n",
    "from keras.layers import Dense, Input, LSTM, Embedding, Dropout, Activation, CuDNNGRU, Conv1D, CuDNNLSTM, concatenate\n",
    "from keras.layers import Bidirectional, GlobalMaxPool1D, Dropout, SpatialDropout1D, GlobalAveragePooling1D, GlobalMaxPooling1D\n",
    "from keras.models import Model\n",
    "from keras import initializers, regularizers, constraints, optimizers, layers\n",
    "\n"
   ]
  },
  {
   "cell_type": "markdown",
   "id": "bea68aa9",
   "metadata": {},
   "source": [
    "## Loading dataset"
   ]
  },
  {
   "cell_type": "code",
   "execution_count": 132,
   "id": "2f2f7310",
   "metadata": {},
   "outputs": [],
   "source": [
    "## directory of dataset\n",
    "root=\"/Users/shaoxing/Desktop/dataset/\""
   ]
  },
  {
   "cell_type": "code",
   "execution_count": 133,
   "id": "9de744ec",
   "metadata": {},
   "outputs": [],
   "source": [
    "##read train set\n",
    "train_dataset = pd.read_csv(root+'offenseval-training-v1.tsv' , sep='\\t')\n",
    "train_dataset.drop(['id'], axis=1, inplace = True)\n"
   ]
  },
  {
   "cell_type": "code",
   "execution_count": 134,
   "id": "22851600",
   "metadata": {},
   "outputs": [],
   "source": [
    "## read the tast dataset\n",
    "test_data = pd.read_csv(root+'testset-levelc.tsv' , sep='\\t') \n",
    "test_labels=pd.read_csv(root+'labels-levelc.csv' , sep='\\t') \n",
    "\n",
    "test_labels=np.array(test_labels)\n",
    "\n",
    "test_labels=np.insert(test_labels,0,['15923,OTH'])\n",
    "labels=[]\n",
    "for item in test_labels:\n",
    "    labels.append(item.split(\",\")[1])\n",
    "\n",
    "labels=pd.DataFrame(labels, columns=[\"subtask_c\"])\n",
    "\n",
    "test_dataset = pd.concat([test_data, labels], axis=1)"
   ]
  },
  {
   "cell_type": "markdown",
   "id": "abe0eb2f",
   "metadata": {},
   "source": [
    "## Dataset Preprocessing "
   ]
  },
  {
   "cell_type": "code",
   "execution_count": 135,
   "id": "a7fa4a47",
   "metadata": {},
   "outputs": [],
   "source": [
    "def emojiPreprocessing(text):\n",
    "    \n",
    "    text = emoji.demojize(text)\n",
    "    \n",
    "    text = re.compile(\"([\\U0001f3fb-\\U0001f3ff])\").sub(r'',text) \n",
    "    text = re.compile(\"([\\U00010000-\\U0010ffff])\").sub(r'',text) \n",
    "    text = re.compile(\"(\\u00a9|\\u00ae|[\\u2000-\\u3300]|\\ud83c[\\ud000-\\udfff]|\\ud83d[\\ud000-\\udfff]|\\ud83e[\\ud000-\\udfff])\").sub(r'',text)\n",
    "\n",
    "   \n",
    "    text = re.compile(\"([\\U00010000-\\U0010ffff])\").sub(r' \\1 ',text) \n",
    "    return text"
   ]
  },
  {
   "cell_type": "code",
   "execution_count": 136,
   "id": "d9d615a7",
   "metadata": {},
   "outputs": [],
   "source": [
    "def tweetPreprocessing (text):\n",
    "    \n",
    "    \n",
    "    text = re.compile(r'@USER').sub(r'<user>',text)# Replace @USER by <user>\n",
    "\n",
    "    \n",
    "    text = re.compile(r'URL').sub(r'<url>',text)# Replace URL by <url>\n",
    "\n",
    "    \n",
    "    text = re.compile(r'[0-9]+').sub(r' ',text)# Remove numbers :\n",
    "\n",
    "    \n",
    "    text = re.compile(r'([\\xa0_\\{\\}\\[\\]¬•$,:;/@#|\\^*%().~`”\"“-])').sub(r' ',text) # Remove some special characters\n",
    "\n",
    "    \n",
    "    text = re.compile(r'([$&+,:;=?@#|\\'.^*()%!\"’“-])').sub(r' \\1 ',text)# Space the special characters with white spaces\n",
    "\n",
    "    \n",
    "    replace_dict = {r'&' : 'and' , r'&amp;' : 'and' , \n",
    "                    r'\\+' : 'plus'} # Replace some special characters : \n",
    "    for cha in replace_dict:\n",
    "        text = re.compile(str(cha)).sub(str(replace_dict[cha]),text)\n",
    "\n",
    "    \n",
    "    text = emojiPreprocessing(text)\n",
    "\n",
    "    \n",
    "    text = re.compile(r'(.)\\1{3,}').sub(r'\\1\\1',text)# Word delengthening : \n",
    "\n",
    "    \n",
    "    text = re.compile(r'([a-z]+|[A-Z]+|[A-Z][a-z]+)([A-Z][a-z]+)').sub(r'\\1 \\2',text)\n",
    "    text = re.compile(r'([a-z]+|[A-Z]+|[A-Z][a-z]+)([A-Z][a-z]+)').sub(r'\\1 \\2',text)        \n",
    "    \n",
    "   \n",
    "    text = text.split(' ')\n",
    "\n",
    "    \n",
    "    text = [text[i] for i in range(len(text)) if text[i] != ' ']# Remove white spaces tokens\n",
    "\n",
    "    \n",
    "    text = [text[i] for i in range(len(text)) if text[i] != '']# Remove empty tokens\n",
    "\n",
    "   \n",
    "    text = [text[i] for i in range(len(text)) if text[i] != text[i-1]] # Remove repetition in tokens (!!! => !)\n",
    "\n",
    "    #  Handle the ALL CAPS Tweets \n",
    "\n",
    "    caps_r = np.mean([text[i].isupper() for i in range(len(text))])\n",
    "    if caps_r > 0.6 : \n",
    "        text.append('<allcaps>')\n",
    "\n",
    "   \n",
    "    text = [text[i].lower() for i in range(len(text))]\n",
    "    \n",
    "    return \" \".join(str(x) for x in text)"
   ]
  },
  {
   "cell_type": "code",
   "execution_count": 137,
   "id": "e5cbda26",
   "metadata": {},
   "outputs": [
    {
     "data": {
      "text/html": [
       "<div>\n",
       "<style scoped>\n",
       "    .dataframe tbody tr th:only-of-type {\n",
       "        vertical-align: middle;\n",
       "    }\n",
       "\n",
       "    .dataframe tbody tr th {\n",
       "        vertical-align: top;\n",
       "    }\n",
       "\n",
       "    .dataframe thead th {\n",
       "        text-align: right;\n",
       "    }\n",
       "</style>\n",
       "<table border=\"1\" class=\"dataframe\">\n",
       "  <thead>\n",
       "    <tr style=\"text-align: right;\">\n",
       "      <th></th>\n",
       "      <th>tweet</th>\n",
       "      <th>subtask_a</th>\n",
       "      <th>subtask_b</th>\n",
       "      <th>subtask_c</th>\n",
       "      <th>preprocessed_tweet</th>\n",
       "    </tr>\n",
       "  </thead>\n",
       "  <tbody>\n",
       "    <tr>\n",
       "      <th>1</th>\n",
       "      <td>@USER @USER Go home you’re drunk!!! @USER #MAG...</td>\n",
       "      <td>OFF</td>\n",
       "      <td>TIN</td>\n",
       "      <td>0.0</td>\n",
       "      <td>&lt;user&gt; go home you re drunk ! &lt;user&gt; maga trum...</td>\n",
       "    </tr>\n",
       "    <tr>\n",
       "      <th>5</th>\n",
       "      <td>@USER Liberals are all Kookoo !!!</td>\n",
       "      <td>OFF</td>\n",
       "      <td>TIN</td>\n",
       "      <td>2.0</td>\n",
       "      <td>&lt;user&gt; liberals are all kookoo !</td>\n",
       "    </tr>\n",
       "    <tr>\n",
       "      <th>7</th>\n",
       "      <td>@USER was literally just talking about this lo...</td>\n",
       "      <td>OFF</td>\n",
       "      <td>TIN</td>\n",
       "      <td>1.0</td>\n",
       "      <td>&lt;user&gt; was literally just talking about this l...</td>\n",
       "    </tr>\n",
       "    <tr>\n",
       "      <th>9</th>\n",
       "      <td>@USER Canada doesn’t need another CUCK! We alr...</td>\n",
       "      <td>OFF</td>\n",
       "      <td>TIN</td>\n",
       "      <td>0.0</td>\n",
       "      <td>&lt;user&gt; canada doesn t need another cuck ! we a...</td>\n",
       "    </tr>\n",
       "    <tr>\n",
       "      <th>12</th>\n",
       "      <td>@USER you are a lying corrupt traitor!!! Nobod...</td>\n",
       "      <td>OFF</td>\n",
       "      <td>TIN</td>\n",
       "      <td>0.0</td>\n",
       "      <td>&lt;user&gt; you are a lying corrupt traitor ! nobod...</td>\n",
       "    </tr>\n",
       "  </tbody>\n",
       "</table>\n",
       "</div>"
      ],
      "text/plain": [
       "                                                tweet subtask_a subtask_b  \\\n",
       "1   @USER @USER Go home you’re drunk!!! @USER #MAG...       OFF       TIN   \n",
       "5                   @USER Liberals are all Kookoo !!!       OFF       TIN   \n",
       "7   @USER was literally just talking about this lo...       OFF       TIN   \n",
       "9   @USER Canada doesn’t need another CUCK! We alr...       OFF       TIN   \n",
       "12  @USER you are a lying corrupt traitor!!! Nobod...       OFF       TIN   \n",
       "\n",
       "    subtask_c                                 preprocessed_tweet  \n",
       "1         0.0  <user> go home you re drunk ! <user> maga trum...  \n",
       "5         2.0                   <user> liberals are all kookoo !  \n",
       "7         1.0  <user> was literally just talking about this l...  \n",
       "9         0.0  <user> canada doesn t need another cuck ! we a...  \n",
       "12        0.0  <user> you are a lying corrupt traitor ! nobod...  "
      ]
     },
     "execution_count": 137,
     "metadata": {},
     "output_type": "execute_result"
    }
   ],
   "source": [
    "## show examples after preprocessing of train_dataset\n",
    "train_dataset['subtask_c'].replace({'IND':0, 'GRP': 1, 'OTH': 2}, inplace= True)\n",
    "train_dataset[\"preprocessed_tweet\"] = train_dataset[\"tweet\"].apply(tweetPreprocessing)\n",
    "train_dataset = train_dataset.dropna(subset=['subtask_c'])\n",
    "train_dataset.head()"
   ]
  },
  {
   "cell_type": "code",
   "execution_count": 138,
   "id": "82d66015",
   "metadata": {},
   "outputs": [
    {
     "data": {
      "text/html": [
       "<div>\n",
       "<style scoped>\n",
       "    .dataframe tbody tr th:only-of-type {\n",
       "        vertical-align: middle;\n",
       "    }\n",
       "\n",
       "    .dataframe tbody tr th {\n",
       "        vertical-align: top;\n",
       "    }\n",
       "\n",
       "    .dataframe thead th {\n",
       "        text-align: right;\n",
       "    }\n",
       "</style>\n",
       "<table border=\"1\" class=\"dataframe\">\n",
       "  <thead>\n",
       "    <tr style=\"text-align: right;\">\n",
       "      <th></th>\n",
       "      <th>id</th>\n",
       "      <th>tweet</th>\n",
       "      <th>subtask_c</th>\n",
       "      <th>preprocessed_tweet</th>\n",
       "    </tr>\n",
       "  </thead>\n",
       "  <tbody>\n",
       "    <tr>\n",
       "      <th>0</th>\n",
       "      <td>15923</td>\n",
       "      <td>#WhoIsQ #WheresTheServer #DumpNike #DECLASFISA...</td>\n",
       "      <td>2</td>\n",
       "      <td>who isq wheres the server dump nike declasfisa...</td>\n",
       "    </tr>\n",
       "    <tr>\n",
       "      <th>1</th>\n",
       "      <td>60133</td>\n",
       "      <td>#NoPasaran: Unity demo to oppose the far-right...</td>\n",
       "      <td>1</td>\n",
       "      <td>no pasaran unity demo to oppose the far right ...</td>\n",
       "    </tr>\n",
       "    <tr>\n",
       "      <th>2</th>\n",
       "      <td>83681</td>\n",
       "      <td>. . . What the fuck did he do this time?</td>\n",
       "      <td>0</td>\n",
       "      <td>what the fuck did he do this time ?</td>\n",
       "    </tr>\n",
       "    <tr>\n",
       "      <th>3</th>\n",
       "      <td>65507</td>\n",
       "      <td>@USER Do you get the feeling he is kissing @US...</td>\n",
       "      <td>2</td>\n",
       "      <td>&lt;user&gt; do you get the feeling he is kissing &lt;u...</td>\n",
       "    </tr>\n",
       "    <tr>\n",
       "      <th>4</th>\n",
       "      <td>34263</td>\n",
       "      <td>#StopKavanaugh he is liar like the rest of the...</td>\n",
       "      <td>0</td>\n",
       "      <td>stop kavanaugh he is liar like the rest of the...</td>\n",
       "    </tr>\n",
       "  </tbody>\n",
       "</table>\n",
       "</div>"
      ],
      "text/plain": [
       "      id                                              tweet  subtask_c  \\\n",
       "0  15923  #WhoIsQ #WheresTheServer #DumpNike #DECLASFISA...          2   \n",
       "1  60133  #NoPasaran: Unity demo to oppose the far-right...          1   \n",
       "2  83681           . . . What the fuck did he do this time?          0   \n",
       "3  65507  @USER Do you get the feeling he is kissing @US...          2   \n",
       "4  34263  #StopKavanaugh he is liar like the rest of the...          0   \n",
       "\n",
       "                                  preprocessed_tweet  \n",
       "0  who isq wheres the server dump nike declasfisa...  \n",
       "1  no pasaran unity demo to oppose the far right ...  \n",
       "2                what the fuck did he do this time ?  \n",
       "3  <user> do you get the feeling he is kissing <u...  \n",
       "4  stop kavanaugh he is liar like the rest of the...  "
      ]
     },
     "execution_count": 138,
     "metadata": {},
     "output_type": "execute_result"
    }
   ],
   "source": [
    "## show examples after preprocessing of test_dataset\n",
    "test_dataset['subtask_c'].replace({'IND':0, 'GRP': 1, 'OTH': 2}, inplace= True)\n",
    "test_dataset[\"preprocessed_tweet\"] = test_dataset[\"tweet\"].apply(tweetPreprocessing)\n",
    "test_dataset = test_dataset.dropna(subset=['subtask_c'])\n",
    "test_dataset.head()"
   ]
  },
  {
   "cell_type": "markdown",
   "id": "761b8db5",
   "metadata": {},
   "source": [
    " ## Extract Features "
   ]
  },
  {
   "cell_type": "code",
   "execution_count": 139,
   "id": "7a85d52a",
   "metadata": {},
   "outputs": [],
   "source": [
    "Tweets = train_dataset[\"preprocessed_tweet\"].values\n",
    "labels = train_dataset[\"subtask_c\"].values\n"
   ]
  },
  {
   "cell_type": "code",
   "execution_count": 140,
   "id": "136c52fa",
   "metadata": {},
   "outputs": [],
   "source": [
    "train_Tweets=Tweets\n",
    "train_labels=labels\n",
    "\n",
    "test_Tweets=test_dataset[\"preprocessed_tweet\"].values\n",
    "test_labels=test_dataset[\"subtask_c\"].values"
   ]
  },
  {
   "cell_type": "code",
   "execution_count": 141,
   "id": "9027e5d6",
   "metadata": {},
   "outputs": [],
   "source": [
    "allTweets=np.hstack((train_Tweets,test_Tweets))\n"
   ]
  },
  {
   "cell_type": "markdown",
   "id": "de2efe7d",
   "metadata": {},
   "source": [
    "## TFIDF extract features "
   ]
  },
  {
   "cell_type": "code",
   "execution_count": 142,
   "id": "647f586f",
   "metadata": {},
   "outputs": [],
   "source": [
    "def tf_idf(allTweets, train_Tweets, test_Tweets):\n",
    "    \n",
    "    tfidf_vectorizer = TfidfVectorizer()\n",
    "    tfidf_vectorizer.fit(allTweets)\n",
    "\n",
    "    train_text_features_tf = tfidf_vectorizer.transform(train_Tweets)\n",
    "    test_text_features_tf = tfidf_vectorizer.transform(test_Tweets)\n",
    "    \n",
    "    return train_text_features_tf, test_text_features_tf"
   ]
  },
  {
   "cell_type": "markdown",
   "id": "417b7011",
   "metadata": {},
   "source": [
    "## Count extract features"
   ]
  },
  {
   "cell_type": "code",
   "execution_count": 143,
   "id": "81400d85",
   "metadata": {},
   "outputs": [],
   "source": [
    "def count(allTweets, train_Tweets, test_Tweets):\n",
    "    \n",
    "    count_vectorizer = CountVectorizer()\n",
    "    count_vectorizer.fit(allTweets)\n",
    "\n",
    "    train_text_features_cv = count_vectorizer.transform(train_Tweets)\n",
    "    test_text_features_cv = count_vectorizer.transform(test_Tweets)\n",
    "    \n",
    "    return train_text_features_cv, test_text_features_cv"
   ]
  },
  {
   "cell_type": "markdown",
   "id": "effcd85b",
   "metadata": {},
   "source": [
    "## Sampling:undersampling"
   ]
  },
  {
   "cell_type": "code",
   "execution_count": 144,
   "id": "11924486",
   "metadata": {},
   "outputs": [],
   "source": [
    "def undersampling(train_text_features_tf, train_labels):\n",
    "    randomUnderSampler = RandomUnderSampler(random_state=0)\n",
    "    Tweets_resampled, labels_resampled = randomUnderSampler.fit_resample(train_text_features_tf, train_labels)\n",
    "    return Tweets_resampled, labels_resampled"
   ]
  },
  {
   "cell_type": "markdown",
   "id": "1c6b0a2e",
   "metadata": {},
   "source": [
    "## Sampling: Oversampling"
   ]
  },
  {
   "cell_type": "code",
   "execution_count": 145,
   "id": "d8a88898",
   "metadata": {},
   "outputs": [],
   "source": [
    "def oversampling(train_text_features_tf, train_labels):\n",
    "    from imblearn.over_sampling import SMOTE\n",
    "    smote = SMOTE('minority')\n",
    "    Tweets_oversampled, labels_oversampled = smote.fit_resample(train_text_features_tf, train_labels)\n",
    "    return Tweets_oversampled, labels_oversampled"
   ]
  },
  {
   "cell_type": "markdown",
   "id": "fb04c45b",
   "metadata": {},
   "source": [
    "## Confusion Matrix"
   ]
  },
  {
   "cell_type": "code",
   "execution_count": 146,
   "id": "dfd1fcaf",
   "metadata": {},
   "outputs": [],
   "source": [
    "def confusionMatrix(labels_true, labels_pred):\n",
    "\n",
    "    mat = confusion_matrix(labels_true, labels_pred)\n",
    "    cm = pd.DataFrame(mat)\n",
    "    TP = cm.iloc[1,1] # True Positive\n",
    "    TN = cm.iloc[0,0] # True Negative\n",
    "    FP = cm.iloc[0,1] # False Positive\n",
    "    FN = cm.iloc[1,0] # False Negative\n",
    "\n",
    "    print('Sensitivity: {:.2%}'.format(TP/(FN+TP)))\n",
    "    print('Specificity: {:.2%}'.format(TN/(FP+TN)))\n",
    "  \n",
    "    sns.heatmap(mat.T, square=True, annot=True, fmt='d', cbar=True)\n",
    "    plt.title('A confusion matrix showing the frequency of misclassifications by classifier')\n",
    "    plt.xlabel('true label')\n",
    "    plt.ylabel('predicted label');\n",
    "    plt.show()"
   ]
  },
  {
   "cell_type": "markdown",
   "id": "c72306fe",
   "metadata": {},
   "source": [
    "## Build Model"
   ]
  },
  {
   "cell_type": "code",
   "execution_count": 185,
   "id": "1dbb4625",
   "metadata": {},
   "outputs": [],
   "source": [
    "def modelBuild(model, Tweets, train_Tweets, train_labels, test_Tweets, test_labels, tfidf = False, cv = False, undersampled = False, oversample = False):\n",
    "    \n",
    "    if tfidf:\n",
    "        print('Feature Extraction using TFIFD')\n",
    "        \n",
    "        train_text_features, test_text_features = tf_idf(Tweets, train_Tweets, test_Tweets)\n",
    "    \n",
    "    if cv:\n",
    "        print('Feature Extraction using count')\n",
    "        \n",
    "        train_text_features, test_text_features = count(Tweets, train_Tweets, test_Tweets)\n",
    "\n",
    "    if undersampled:\n",
    "        print('Undersampling the dataset')\n",
    "        train_text_features, train_labels = undersampling(train_text_features, train_labels)\n",
    "        \n",
    "        \n",
    "\n",
    "    if oversample:\n",
    "        print('Oversampling the dataset')\n",
    "        train_text_features, train_labels = oversampling(train_text_features, train_labels)\n",
    "        \n",
    "        \n",
    "    model.fit(train_text_features, train_labels)\n",
    "\n",
    "    # predict the labels on validation dataset\n",
    "    predictions = model.predict(test_text_features)\n",
    "    \n",
    "    Precision=precision_score(predictions, test_labels, average=\"weighted\")\n",
    "    Recall=recall_score(predictions, test_labels, average=\"weighted\")\n",
    "    \n",
    "    print(\"Accuracy Score -> \",accuracy_score(predictions, test_labels)*100)\n",
    "    molecular=2*(Precision*Recall)\n",
    "    denominator=Precision+Recall\n",
    "    \n",
    "    F1Score=molecular/denominator\n",
    "    \n",
    "    print(\"Precision:\",Precision)\n",
    "    print(\"Recall:\",Recall)\n",
    "    print(\"F1Score:\",F1Score)\n",
    "    \n",
    "\n",
    "    # Use accuracy_score function to get the accuracy\n",
    "    #print(\"Accuracy Score -> \",accuracy_score(predictions, test_labels)*100)\n",
    "\n",
    "    #print('F1Score', f1_score(predictions, test_labels, average=\"macro\"))\n",
    "    #print('Precision', precision_score(predictions, test_labels, average=\"weighted\"))\n",
    "    #print('Recall', recall_score(predictions, test_labels, average=\"weighted\"))\n",
    "\n",
    "    confusionMatrix(test_labels, predictions)"
   ]
  },
  {
   "cell_type": "markdown",
   "id": "58a8c798",
   "metadata": {},
   "source": [
    "## SVM:TFIDF and Original Data"
   ]
  },
  {
   "cell_type": "code",
   "execution_count": 179,
   "id": "4978b841",
   "metadata": {},
   "outputs": [
    {
     "name": "stdout",
     "output_type": "stream",
     "text": [
      "Feature Extraction using TFIFD\n",
      "Accuracy Score ->  66.66666666666666\n",
      "F1Score 0.49236093874962084\n",
      "Precision 0.811152556363824\n",
      "Recall 0.6666666666666666\n",
      "Sensitivity: 64.10%\n",
      "Specificity: 91.00%\n"
     ]
    },
    {
     "data": {
      "image/png": "[encoded data removed]",
      "text/plain": [
       "<Figure size 432x288 with 2 Axes>"
      ]
     },
     "metadata": {
      "needs_background": "light"
     },
     "output_type": "display_data"
    }
   ],
   "source": [
    "modelBuild(svm.SVC(C=1.0, kernel='linear', degree=3, gamma='auto'), allTweets, train_Tweets, train_labels,\n",
    "      test_Tweets, test_labels, tfidf = True, cv = False, undersampled = False, oversample = False)"
   ]
  },
  {
   "cell_type": "markdown",
   "id": "97a7b52a",
   "metadata": {},
   "source": [
    "## SVM: TFIDF and Undersampling"
   ]
  },
  {
   "cell_type": "code",
   "execution_count": 180,
   "id": "a99f9c66",
   "metadata": {},
   "outputs": [
    {
     "name": "stdout",
     "output_type": "stream",
     "text": [
      "Feature Extraction using TFIFD\n",
      "Undersampling the dataset\n",
      "Accuracy Score ->  52.112676056338024\n",
      "F1Score 0.4940291367688628\n",
      "Precision 0.5117671843023955\n",
      "Recall 0.5211267605633803\n",
      "Sensitivity: 75.51%\n",
      "Specificity: 75.00%\n"
     ]
    },
    {
     "data": {
      "image/png": "[encoded data removed]",
      "text/plain": [
       "<Figure size 432x288 with 2 Axes>"
      ]
     },
     "metadata": {
      "needs_background": "light"
     },
     "output_type": "display_data"
    }
   ],
   "source": [
    "modelBuild(svm.SVC(C=1.0, kernel='linear', degree=3, gamma='auto'), allTweets, train_Tweets, train_labels,\n",
    "      test_Tweets, test_labels, tfidf = True, cv = False, undersampled = True, oversample = False)"
   ]
  },
  {
   "cell_type": "markdown",
   "id": "24e8675f",
   "metadata": {},
   "source": [
    "## SVM: TFIDF and Oversampling"
   ]
  },
  {
   "cell_type": "code",
   "execution_count": 181,
   "id": "a911f67f",
   "metadata": {},
   "outputs": [
    {
     "name": "stdout",
     "output_type": "stream",
     "text": [
      "Feature Extraction using TFIFD\n",
      "Oversampling the dataset\n"
     ]
    },
    {
     "name": "stderr",
     "output_type": "stream",
     "text": [
      "/Users/shaoxing/opt/anaconda3/lib/python3.8/site-packages/imblearn/utils/_validation.py:586: FutureWarning: Pass sampling_strategy=minority as keyword args. From version 0.9 passing these as positional arguments will result in an error\n",
      "  warnings.warn(\n"
     ]
    },
    {
     "name": "stdout",
     "output_type": "stream",
     "text": [
      "Accuracy Score ->  63.38028169014085\n",
      "F1Score 0.5393223010244287\n",
      "Precision 0.6849171954805757\n",
      "Recall 0.6338028169014085\n",
      "Sensitivity: 62.69%\n",
      "Specificity: 90.43%\n"
     ]
    },
    {
     "data": {
      "image/png": "[encoded data removed]",
      "text/plain": [
       "<Figure size 432x288 with 2 Axes>"
      ]
     },
     "metadata": {
      "needs_background": "light"
     },
     "output_type": "display_data"
    }
   ],
   "source": [
    "modelBuild(svm.SVC(C=1.0, kernel='linear', degree=3, gamma='auto'), allTweets, train_Tweets, train_labels,\n",
    "      test_Tweets, test_labels, tfidf = True, cv = False, undersampled = False, oversample = True)"
   ]
  },
  {
   "cell_type": "markdown",
   "id": "927cfeb3",
   "metadata": {},
   "source": [
    "## SVM: Count and Original Data"
   ]
  },
  {
   "cell_type": "code",
   "execution_count": 182,
   "id": "bb680459",
   "metadata": {},
   "outputs": [
    {
     "name": "stdout",
     "output_type": "stream",
     "text": [
      "Feature Extraction using count\n",
      "Accuracy Score ->  57.74647887323944\n",
      "F1Score 0.47381121206624566\n",
      "Precision 0.6311145505511703\n",
      "Recall 0.5774647887323944\n",
      "Sensitivity: 57.97%\n",
      "Specificity: 82.98%\n"
     ]
    },
    {
     "data": {
      "image/png": "[encoded data removed]",
      "text/plain": [
       "<Figure size 432x288 with 2 Axes>"
      ]
     },
     "metadata": {
      "needs_background": "light"
     },
     "output_type": "display_data"
    }
   ],
   "source": [
    "modelBuild(svm.SVC(C=1.0, kernel='linear', degree=3, gamma='auto'), allTweets, train_Tweets, train_labels,\n",
    "      test_Tweets, test_labels, tfidf = False, cv = True, undersampled = False, oversample = False)"
   ]
  },
  {
   "cell_type": "markdown",
   "id": "3756c582",
   "metadata": {},
   "source": [
    "## SVM: Count and Undersampling"
   ]
  },
  {
   "cell_type": "code",
   "execution_count": 183,
   "id": "73cd2609",
   "metadata": {},
   "outputs": [
    {
     "name": "stdout",
     "output_type": "stream",
     "text": [
      "Feature Extraction using count\n",
      "Undersampling the dataset\n",
      "Accuracy Score ->  54.460093896713616\n",
      "F1Score 0.494390358130147\n",
      "Precision 0.5279678068410463\n",
      "Recall 0.5446009389671361\n",
      "Sensitivity: 68.42%\n",
      "Specificity: 76.47%\n"
     ]
    },
    {
     "data": {
      "image/png": "[encoded data removed]",
      "text/plain": [
       "<Figure size 432x288 with 2 Axes>"
      ]
     },
     "metadata": {
      "needs_background": "light"
     },
     "output_type": "display_data"
    }
   ],
   "source": [
    "modelBuild(svm.SVC(C=1.0, kernel='linear', degree=3, gamma='auto'), allTweets, train_Tweets, train_labels,\n",
    "      test_Tweets, test_labels, tfidf = False, cv = True, undersampled = True, oversample = False)"
   ]
  },
  {
   "cell_type": "markdown",
   "id": "c33c1334",
   "metadata": {},
   "source": [
    "## SVM: Count and Oversampling"
   ]
  },
  {
   "cell_type": "code",
   "execution_count": 184,
   "id": "42a13638",
   "metadata": {},
   "outputs": [
    {
     "name": "stdout",
     "output_type": "stream",
     "text": [
      "Feature Extraction using count\n",
      "Oversampling the dataset\n"
     ]
    },
    {
     "name": "stderr",
     "output_type": "stream",
     "text": [
      "/Users/shaoxing/opt/anaconda3/lib/python3.8/site-packages/imblearn/utils/_validation.py:586: FutureWarning: Pass sampling_strategy=minority as keyword args. From version 0.9 passing these as positional arguments will result in an error\n",
      "  warnings.warn(\n"
     ]
    },
    {
     "name": "stdout",
     "output_type": "stream",
     "text": [
      "Accuracy Score ->  52.112676056338024\n",
      "F1Score 0.4307738886274184\n",
      "Precision 0.5457483361708714\n",
      "Recall 0.5211267605633803\n",
      "Sensitivity: 55.00%\n",
      "Specificity: 83.91%\n"
     ]
    },
    {
     "data": {
      "image/png": "[encoded data removed]",
      "text/plain": [
       "<Figure size 432x288 with 2 Axes>"
      ]
     },
     "metadata": {
      "needs_background": "light"
     },
     "output_type": "display_data"
    }
   ],
   "source": [
    "modelBuild(svm.SVC(C=1.0, kernel='linear', degree=3, gamma='auto'), allTweets, train_Tweets, train_labels,\n",
    "      test_Tweets, test_labels, tfidf = False, cv = True, undersampled = False, oversample = True)"
   ]
  },
  {
   "cell_type": "markdown",
   "id": "ca08e22c",
   "metadata": {},
   "source": [
    "## Random Forest: Count and Original Dataset"
   ]
  },
  {
   "cell_type": "code",
   "execution_count": 186,
   "id": "cbc797c8",
   "metadata": {},
   "outputs": [
    {
     "name": "stdout",
     "output_type": "stream",
     "text": [
      "Feature Extraction using count\n",
      "Accuracy Score ->  50.23474178403756\n",
      "Precision: 0.9353485012639943\n",
      "Recall: 0.5023474178403756\n",
      "F1Score: 0.6536429548795603\n",
      "Sensitivity: 11.54%\n",
      "Specificity: 98.00%\n"
     ]
    },
    {
     "name": "stderr",
     "output_type": "stream",
     "text": [
      "/Users/shaoxing/opt/anaconda3/lib/python3.8/site-packages/sklearn/metrics/_classification.py:1327: UndefinedMetricWarning: Recall is ill-defined and being set to 0.0 in labels with no true samples. Use `zero_division` parameter to control this behavior.\n",
      "  _warn_prf(average, modifier, msg_start, len(result))\n"
     ]
    },
    {
     "data": {
      "image/png": "[encoded data removed]",
      "text/plain": [
       "<Figure size 432x288 with 2 Axes>"
      ]
     },
     "metadata": {
      "needs_background": "light"
     },
     "output_type": "display_data"
    }
   ],
   "source": [
    "from sklearn.ensemble import RandomForestClassifier\n",
    "\n",
    "modelBuild(RandomForestClassifier(n_estimators=100, max_depth=20,random_state=0), allTweets, train_Tweets, train_labels,\n",
    "      test_Tweets, test_labels, tfidf = False, cv = True, undersampled = False, oversample = False)\n"
   ]
  },
  {
   "cell_type": "markdown",
   "id": "0180afb9",
   "metadata": {},
   "source": [
    "## Random Forest: Count and Undersampling"
   ]
  },
  {
   "cell_type": "code",
   "execution_count": 187,
   "id": "a3b9f613",
   "metadata": {},
   "outputs": [
    {
     "name": "stdout",
     "output_type": "stream",
     "text": [
      "Feature Extraction using count\n",
      "Undersampling the dataset\n",
      "Accuracy Score ->  63.84976525821596\n",
      "Precision: 0.6363112005365527\n",
      "Recall: 0.6384976525821596\n",
      "F1Score: 0.637402551543923\n",
      "Sensitivity: 79.66%\n",
      "Specificity: 82.98%\n"
     ]
    },
    {
     "data": {
      "image/png": "[encoded data removed]",
      "text/plain": [
       "<Figure size 432x288 with 2 Axes>"
      ]
     },
     "metadata": {
      "needs_background": "light"
     },
     "output_type": "display_data"
    }
   ],
   "source": [
    "\n",
    "modelBuild(RandomForestClassifier(n_estimators=100, max_depth=20,random_state=0), allTweets, train_Tweets, train_labels,\n",
    "      test_Tweets, test_labels, tfidf = False, cv = True, undersampled = True, oversample = False)\n"
   ]
  },
  {
   "cell_type": "markdown",
   "id": "037b1aa6",
   "metadata": {},
   "source": [
    "## Random Forest: Count and OverSampling"
   ]
  },
  {
   "cell_type": "code",
   "execution_count": 188,
   "id": "3a500ca1",
   "metadata": {},
   "outputs": [
    {
     "name": "stdout",
     "output_type": "stream",
     "text": [
      "Feature Extraction using count\n",
      "Oversampling the dataset\n"
     ]
    },
    {
     "name": "stderr",
     "output_type": "stream",
     "text": [
      "/Users/shaoxing/opt/anaconda3/lib/python3.8/site-packages/imblearn/utils/_validation.py:586: FutureWarning: Pass sampling_strategy=minority as keyword args. From version 0.9 passing these as positional arguments will result in an error\n",
      "  warnings.warn(\n"
     ]
    },
    {
     "name": "stdout",
     "output_type": "stream",
     "text": [
      "Accuracy Score ->  40.845070422535215\n",
      "Precision: 0.5689955115307228\n",
      "Recall: 0.4084507042253521\n",
      "F1Score: 0.4755384258273829\n",
      "Sensitivity: 9.80%\n",
      "Specificity: 100.00%\n"
     ]
    },
    {
     "data": {
      "image/png": "[encoded data removed]",
      "text/plain": [
       "<Figure size 432x288 with 2 Axes>"
      ]
     },
     "metadata": {
      "needs_background": "light"
     },
     "output_type": "display_data"
    }
   ],
   "source": [
    "modelBuild(RandomForestClassifier(n_estimators=100, max_depth=20,random_state=0), allTweets, train_Tweets, train_labels,\n",
    "      test_Tweets, test_labels, tfidf = False, cv = True, undersampled = False, oversample = True)\n"
   ]
  },
  {
   "cell_type": "markdown",
   "id": "6749030f",
   "metadata": {},
   "source": [
    "## Random Forest: TFIDF and Original Data"
   ]
  },
  {
   "cell_type": "code",
   "execution_count": 189,
   "id": "c3342a3f",
   "metadata": {},
   "outputs": [
    {
     "name": "stdout",
     "output_type": "stream",
     "text": [
      "Feature Extraction using TFIFD\n",
      "Accuracy Score ->  50.70422535211267\n",
      "Precision: 0.966293487420248\n",
      "Recall: 0.5070422535211268\n",
      "F1Score: 0.6650916200693006\n",
      "Sensitivity: 10.26%\n",
      "Specificity: 100.00%\n"
     ]
    },
    {
     "name": "stderr",
     "output_type": "stream",
     "text": [
      "/Users/shaoxing/opt/anaconda3/lib/python3.8/site-packages/sklearn/metrics/_classification.py:1327: UndefinedMetricWarning: Recall is ill-defined and being set to 0.0 in labels with no true samples. Use `zero_division` parameter to control this behavior.\n",
      "  _warn_prf(average, modifier, msg_start, len(result))\n"
     ]
    },
    {
     "data": {
      "image/png": "[encoded data removed]",
      "text/plain": [
       "<Figure size 432x288 with 2 Axes>"
      ]
     },
     "metadata": {
      "needs_background": "light"
     },
     "output_type": "display_data"
    }
   ],
   "source": [
    "modelBuild(RandomForestClassifier(n_estimators=100, max_depth=20,random_state=0), allTweets, train_Tweets, train_labels,\n",
    "      test_Tweets, test_labels, tfidf = True, cv = False, undersampled = False, oversample = False)\n"
   ]
  },
  {
   "cell_type": "markdown",
   "id": "baa7ba7b",
   "metadata": {},
   "source": [
    "## Random Forest: TFIDF and Undersampling"
   ]
  },
  {
   "cell_type": "code",
   "execution_count": 190,
   "id": "856ff7fe",
   "metadata": {},
   "outputs": [
    {
     "name": "stdout",
     "output_type": "stream",
     "text": [
      "Feature Extraction using TFIFD\n",
      "Undersampling the dataset\n",
      "Accuracy Score ->  59.624413145539904\n",
      "Precision: 0.587813547954393\n",
      "Recall: 0.596244131455399\n",
      "F1Score: 0.5919988264971766\n",
      "Sensitivity: 82.54%\n",
      "Specificity: 79.76%\n"
     ]
    },
    {
     "data": {
      "image/png": "[encoded data removed]",
      "text/plain": [
       "<Figure size 432x288 with 2 Axes>"
      ]
     },
     "metadata": {
      "needs_background": "light"
     },
     "output_type": "display_data"
    }
   ],
   "source": [
    "modelBuild(RandomForestClassifier(n_estimators=100, max_depth=20,random_state=0), allTweets, train_Tweets, train_labels,\n",
    "      test_Tweets, test_labels, tfidf = True, cv = False, undersampled = True, oversample = False)\n"
   ]
  },
  {
   "cell_type": "markdown",
   "id": "af925482",
   "metadata": {},
   "source": [
    "## Random Forest: TFIDF and Oversampling"
   ]
  },
  {
   "cell_type": "code",
   "execution_count": 191,
   "id": "de9d858b",
   "metadata": {},
   "outputs": [
    {
     "name": "stdout",
     "output_type": "stream",
     "text": [
      "Feature Extraction using TFIFD\n",
      "Oversampling the dataset\n"
     ]
    },
    {
     "name": "stderr",
     "output_type": "stream",
     "text": [
      "/Users/shaoxing/opt/anaconda3/lib/python3.8/site-packages/imblearn/utils/_validation.py:586: FutureWarning: Pass sampling_strategy=minority as keyword args. From version 0.9 passing these as positional arguments will result in an error\n",
      "  warnings.warn(\n"
     ]
    },
    {
     "name": "stdout",
     "output_type": "stream",
     "text": [
      "Accuracy Score ->  48.35680751173709\n",
      "Precision: 0.8629905931314381\n",
      "Recall: 0.4835680751173708\n",
      "F1Score: 0.619824014809073\n",
      "Sensitivity: 3.12%\n",
      "Specificity: 100.00%\n"
     ]
    },
    {
     "data": {
      "image/png": "[encoded data removed]",
      "text/plain": [
       "<Figure size 432x288 with 2 Axes>"
      ]
     },
     "metadata": {
      "needs_background": "light"
     },
     "output_type": "display_data"
    }
   ],
   "source": [
    "modelBuild(RandomForestClassifier(n_estimators=100, max_depth=20,random_state=0), allTweets, train_Tweets, train_labels,\n",
    "      test_Tweets, test_labels, tfidf = True, cv = False, undersampled = False, oversample = True)"
   ]
  },
  {
   "cell_type": "markdown",
   "id": "e0bfb2cd",
   "metadata": {},
   "source": [
    "## Deep learning:LSTM"
   ]
  },
  {
   "cell_type": "code",
   "execution_count": 192,
   "id": "3d3ab251",
   "metadata": {},
   "outputs": [],
   "source": [
    "## split dataset into training set and validation set\n",
    "from sklearn.model_selection import train_test_split\n",
    "training_Tweets, val_Tweets, training_labels, val_labels = train_test_split(train_Tweets, train_labels, stratify=train_labels, test_size=0.2)\n",
    "\n"
   ]
  },
  {
   "cell_type": "markdown",
   "id": "0d0cd512",
   "metadata": {},
   "source": [
    "## Tokenize tweets"
   ]
  },
  {
   "cell_type": "code",
   "execution_count": 193,
   "id": "5639c322",
   "metadata": {},
   "outputs": [],
   "source": [
    "max_features = 50000 \n",
    "maxlen = 100"
   ]
  },
  {
   "cell_type": "code",
   "execution_count": 194,
   "id": "d7801bb2",
   "metadata": {},
   "outputs": [],
   "source": [
    "from keras.preprocessing.text import Tokenizer\n",
    "tokenizer = Tokenizer(num_words=max_features)\n",
    "tokenizer.fit_on_texts(list(training_Tweets))\n",
    "training_Tweets = tokenizer.texts_to_sequences(training_Tweets)\n",
    "val_Tweets = tokenizer.texts_to_sequences(val_Tweets)\n",
    "test_Tweets = tokenizer.texts_to_sequences(test_Tweets)"
   ]
  },
  {
   "cell_type": "markdown",
   "id": "10555b02",
   "metadata": {},
   "source": [
    "## Pad the tweets"
   ]
  },
  {
   "cell_type": "code",
   "execution_count": 195,
   "id": "2e13f1ee",
   "metadata": {},
   "outputs": [],
   "source": [
    "training_Tweets = pad_sequences(training_Tweets, maxlen=maxlen)\n",
    "test_Tweets = pad_sequences(test_Tweets, maxlen=maxlen)\n",
    "val_Tweets = pad_sequences(val_Tweets, maxlen=maxlen)"
   ]
  },
  {
   "cell_type": "code",
   "execution_count": 196,
   "id": "c7bc7cb8",
   "metadata": {},
   "outputs": [],
   "source": [
    "S_DROPOUT = 0.4\n",
    "DROPOUT = 0.1"
   ]
  },
  {
   "cell_type": "code",
   "execution_count": 197,
   "id": "28712a15",
   "metadata": {},
   "outputs": [],
   "source": [
    "## plotting function\n",
    "def plot(history):\n",
    "    plt.plot(history.history['accuracy'])\n",
    "    plt.plot(history.history['val_accuracy'])\n",
    "    plt.title('model accuracy')\n",
    "    plt.ylabel('accuracy')\n",
    "    plt.xlabel('epoch')\n",
    "    plt.legend(['train', 'test'], loc='upper left')\n",
    "    plt.show()\n",
    "\n",
    "    # summarize history for loss\n",
    "    plt.plot(history.history['loss'])\n",
    "    plt.plot(history.history['val_loss'])\n",
    "    plt.title('model loss')\n",
    "    plt.ylabel('loss')\n",
    "    plt.xlabel('epoch')\n",
    "    plt.legend(['train', 'test'], loc='upper left')\n",
    "    plt.show()    "
   ]
  },
  {
   "cell_type": "markdown",
   "id": "570295b4",
   "metadata": {},
   "source": [
    "## Model Build"
   ]
  },
  {
   "cell_type": "code",
   "execution_count": 198,
   "id": "1931aa3b",
   "metadata": {},
   "outputs": [
    {
     "name": "stdout",
     "output_type": "stream",
     "text": [
      "Model: \"model\"\n",
      "_________________________________________________________________\n",
      " Layer (type)                Output Shape              Param #   \n",
      "=================================================================\n",
      " input_1 (InputLayer)        [(None, 100)]             0         \n",
      "                                                                 \n",
      " embedding (Embedding)       (None, 100, 100)          5000000   \n",
      "                                                                 \n",
      " bidirectional (Bidirectiona  (None, 100, 128)         84480     \n",
      " l)                                                              \n",
      "                                                                 \n",
      " global_max_pooling1d (Globa  (None, 128)              0         \n",
      " lMaxPooling1D)                                                  \n",
      "                                                                 \n",
      " dense (Dense)               (None, 16)                2064      \n",
      "                                                                 \n",
      " dropout (Dropout)           (None, 16)                0         \n",
      "                                                                 \n",
      " dense_1 (Dense)             (None, 1)                 17        \n",
      "                                                                 \n",
      "=================================================================\n",
      "Total params: 5,086,561\n",
      "Trainable params: 5,086,561\n",
      "Non-trainable params: 0\n",
      "_________________________________________________________________\n",
      "None\n"
     ]
    }
   ],
   "source": [
    "embed_size = 100\n",
    "\n",
    "inp = Input(shape=(maxlen,))\n",
    "x = Embedding(max_features, embed_size)(inp)\n",
    "\n",
    "x = Bidirectional(LSTM(64, return_sequences=True))(x)\n",
    "x = GlobalMaxPool1D()(x)\n",
    "x = Dense(16, activation=\"relu\")(x)\n",
    "x = Dropout(0.1)(x)\n",
    "x = Dense(1, activation='sigmoid')(x)\n",
    "model = Model(inputs=inp, outputs=x)\n",
    "model.compile(loss='binary_crossentropy', optimizer='adam', metrics=['accuracy'])\n",
    "print(model.summary())"
   ]
  },
  {
   "cell_type": "code",
   "execution_count": 199,
   "id": "63956b3c",
   "metadata": {},
   "outputs": [
    {
     "name": "stdout",
     "output_type": "stream",
     "text": [
      "Epoch 1/15\n",
      "49/49 [==============================] - 8s 116ms/step - loss: 0.6867 - accuracy: 0.4842 - val_loss: 0.6658 - val_accuracy: 0.6714\n",
      "Epoch 2/15\n",
      "49/49 [==============================] - 5s 102ms/step - loss: 0.5195 - accuracy: 0.6842 - val_loss: 0.5829 - val_accuracy: 0.6946\n",
      "Epoch 3/15\n",
      "49/49 [==============================] - 5s 102ms/step - loss: 0.1753 - accuracy: 0.7600 - val_loss: 0.7700 - val_accuracy: 0.6881\n",
      "Epoch 4/15\n",
      "49/49 [==============================] - 5s 102ms/step - loss: -0.4133 - accuracy: 0.7929 - val_loss: 1.3264 - val_accuracy: 0.6662\n",
      "Epoch 5/15\n",
      "49/49 [==============================] - 5s 101ms/step - loss: -1.4430 - accuracy: 0.8155 - val_loss: 2.3526 - val_accuracy: 0.6740\n",
      "Epoch 6/15\n",
      "49/49 [==============================] - 5s 102ms/step - loss: -3.1422 - accuracy: 0.8271 - val_loss: 4.0152 - val_accuracy: 0.5838\n",
      "Epoch 7/15\n",
      "49/49 [==============================] - 5s 102ms/step - loss: -5.6854 - accuracy: 0.8161 - val_loss: 7.3488 - val_accuracy: 0.6070\n",
      "Epoch 8/15\n",
      "49/49 [==============================] - 5s 103ms/step - loss: -8.7733 - accuracy: 0.8339 - val_loss: 9.4158 - val_accuracy: 0.5644\n",
      "Epoch 9/15\n",
      "49/49 [==============================] - 5s 102ms/step - loss: -12.8135 - accuracy: 0.8258 - val_loss: 12.8216 - val_accuracy: 0.6108\n",
      "Epoch 10/15\n",
      "49/49 [==============================] - 5s 102ms/step - loss: -16.1006 - accuracy: 0.8277 - val_loss: 18.5941 - val_accuracy: 0.5722\n",
      "Epoch 11/15\n",
      "49/49 [==============================] - 5s 102ms/step - loss: -23.2983 - accuracy: 0.8458 - val_loss: 18.6817 - val_accuracy: 0.5786\n",
      "Epoch 12/15\n",
      "49/49 [==============================] - 5s 104ms/step - loss: -17.7586 - accuracy: 0.7639 - val_loss: 24.6050 - val_accuracy: 0.5902\n",
      "Epoch 13/15\n",
      "49/49 [==============================] - 5s 102ms/step - loss: -31.5847 - accuracy: 0.8432 - val_loss: 30.2787 - val_accuracy: 0.5374\n",
      "Epoch 14/15\n",
      "49/49 [==============================] - 5s 101ms/step - loss: -39.8744 - accuracy: 0.8403 - val_loss: 35.0850 - val_accuracy: 0.5515\n",
      "Epoch 15/15\n",
      "49/49 [==============================] - 5s 101ms/step - loss: -48.2925 - accuracy: 0.8442 - val_loss: 36.3318 - val_accuracy: 0.5554\n"
     ]
    },
    {
     "data": {
      "image/png": "[encoded data removed]",
      "text/plain": [
       "<Figure size 432x288 with 1 Axes>"
      ]
     },
     "metadata": {
      "needs_background": "light"
     },
     "output_type": "display_data"
    },
    {
     "data": {
      "image/png": "[encoded data removed]",
      "text/plain": [
       "<Figure size 432x288 with 1 Axes>"
      ]
     },
     "metadata": {
      "needs_background": "light"
     },
     "output_type": "display_data"
    },
    {
     "name": "stdout",
     "output_type": "stream",
     "text": [
      "Test Accuracy: 54.929578\n"
     ]
    }
   ],
   "source": [
    "#Tweets_resampled, labels_resampled = training_Tweets, training_labels\n",
    "\n",
    "history = model.fit(training_Tweets, training_labels, batch_size=64, epochs=15, validation_data=(val_Tweets, val_labels))\n",
    "plot(history)\n",
    "\n",
    "loss, accuracy = model.evaluate(test_Tweets, test_labels, verbose=0)\n",
    "print('Test Accuracy: %f' % (accuracy*100))\n"
   ]
  },
  {
   "cell_type": "code",
   "execution_count": 200,
   "id": "b0a03ec9",
   "metadata": {},
   "outputs": [
    {
     "name": "stdout",
     "output_type": "stream",
     "text": [
      "1/1 [==============================] - 1s 804ms/step\n"
     ]
    }
   ],
   "source": [
    "pred_val_labels = model.predict([val_Tweets], batch_size=1024, verbose=1)"
   ]
  },
  {
   "cell_type": "code",
   "execution_count": 201,
   "id": "d41347d0",
   "metadata": {},
   "outputs": [],
   "source": [
    "pred_val_labels[pred_val_labels>=0.5] = 1\n",
    "pred_val_labels[pred_val_labels<0.5] = 0"
   ]
  },
  {
   "cell_type": "code",
   "execution_count": 202,
   "id": "714ca05f",
   "metadata": {},
   "outputs": [
    {
     "name": "stdout",
     "output_type": "stream",
     "text": [
      "1/1 [==============================] - 0s 90ms/step\n"
     ]
    }
   ],
   "source": [
    "pred_test_labels = model.predict([test_Tweets], batch_size=1024, verbose=1)"
   ]
  },
  {
   "cell_type": "code",
   "execution_count": 203,
   "id": "ee202ab8",
   "metadata": {},
   "outputs": [
    {
     "name": "stdout",
     "output_type": "stream",
     "text": [
      "[[  0. 112.]\n",
      " [  1. 101.]]\n"
     ]
    }
   ],
   "source": [
    "pred_test_labels[pred_test_labels>=0.5] = 1\n",
    "pred_test_labels[pred_test_labels<0.5] = 0\n",
    "\n",
    "unique, counts = np.unique(pred_test_labels, return_counts=True)\n",
    "print(np.asarray((unique, counts)).T)"
   ]
  },
  {
   "cell_type": "code",
   "execution_count": 204,
   "id": "8785fe53",
   "metadata": {},
   "outputs": [
    {
     "name": "stdout",
     "output_type": "stream",
     "text": [
      "Sensitivity: 60.26%\n",
      "Specificity: 70.00%\n"
     ]
    },
    {
     "data": {
      "image/png": "[encoded data removed]",
      "text/plain": [
       "<Figure size 432x288 with 2 Axes>"
      ]
     },
     "metadata": {
      "needs_background": "light"
     },
     "output_type": "display_data"
    }
   ],
   "source": [
    "confusionMatrix(test_labels, pred_test_labels)"
   ]
  },
  {
   "cell_type": "code",
   "execution_count": 205,
   "id": "bf619c2f",
   "metadata": {},
   "outputs": [
    {
     "name": "stdout",
     "output_type": "stream",
     "text": [
      "0.39517234109834504\n",
      "0.43418803418803414\n",
      "0.3634488448844884\n"
     ]
    },
    {
     "name": "stderr",
     "output_type": "stream",
     "text": [
      "/Users/shaoxing/opt/anaconda3/lib/python3.8/site-packages/sklearn/metrics/_classification.py:1327: UndefinedMetricWarning: Recall is ill-defined and being set to 0.0 in labels with no true samples. Use `zero_division` parameter to control this behavior.\n",
      "  _warn_prf(average, modifier, msg_start, len(result))\n"
     ]
    }
   ],
   "source": [
    "from sklearn import metrics\n",
    "\n",
    "\n",
    "print(f1_score(pred_test_labels, test_labels, average=\"macro\"))\n",
    "print(precision_score(pred_test_labels, test_labels, average=\"macro\"))\n",
    "print(recall_score(pred_test_labels, test_labels, average=\"macro\"))"
   ]
  },
  {
   "cell_type": "markdown",
   "id": "af34c46c",
   "metadata": {},
   "source": [
    "##  GloVe Embeddings"
   ]
  },
  {
   "cell_type": "code",
   "execution_count": 206,
   "id": "72916263",
   "metadata": {},
   "outputs": [],
   "source": [
    "from numpy import asarray\n",
    "\n",
    "embed_size = 200\n",
    "\n",
    "embeddings_index = dict()\n",
    "f = open(root+'glove.twitter.27B.200d.txt', encoding=\"utf8\")\n",
    "for line in f:\n",
    "    \n",
    "    values = line.split()\n",
    "    word = values[0]\n",
    "    coefs = asarray(values[1:], dtype='float32')\n",
    "    embeddings_index[word] = coefs\n",
    "f.close()\n"
   ]
  },
  {
   "cell_type": "code",
   "execution_count": 207,
   "id": "6f11cd37",
   "metadata": {},
   "outputs": [],
   "source": [
    "from numpy import zeros\n",
    "\n",
    "embedding_matrix = zeros((max_features, embed_size))\n",
    "for word, i in tokenizer.word_index.items():\n",
    "    \n",
    "    \n",
    "    if i >= max_features: continue\n",
    "    embedding_vector = embeddings_index.get(word)\n",
    "    if embedding_vector is not None:\n",
    "        \n",
    "        embedding_matrix[i] = embedding_vector"
   ]
  },
  {
   "cell_type": "code",
   "execution_count": 208,
   "id": "18f36821",
   "metadata": {},
   "outputs": [
    {
     "name": "stdout",
     "output_type": "stream",
     "text": [
      "Model: \"model_1\"\n",
      "_________________________________________________________________\n",
      " Layer (type)                Output Shape              Param #   \n",
      "=================================================================\n",
      " input_2 (InputLayer)        [(None, 100)]             0         \n",
      "                                                                 \n",
      " embedding_1 (Embedding)     (None, 100, 200)          10000000  \n",
      "                                                                 \n",
      " bidirectional_1 (Bidirectio  (None, 100, 400)         641600    \n",
      " nal)                                                            \n",
      "                                                                 \n",
      " global_max_pooling1d_1 (Glo  (None, 400)              0         \n",
      " balMaxPooling1D)                                                \n",
      "                                                                 \n",
      " dense_2 (Dense)             (None, 16)                6416      \n",
      "                                                                 \n",
      " dropout_1 (Dropout)         (None, 16)                0         \n",
      "                                                                 \n",
      " dense_3 (Dense)             (None, 1)                 17        \n",
      "                                                                 \n",
      "=================================================================\n",
      "Total params: 10,648,033\n",
      "Trainable params: 10,648,033\n",
      "Non-trainable params: 0\n",
      "_________________________________________________________________\n",
      "None\n"
     ]
    }
   ],
   "source": [
    "inp = Input(shape=(maxlen,))\n",
    "x = Embedding(max_features, embed_size, weights=[embedding_matrix])(inp)\n",
    "x = Bidirectional(LSTM(200, return_sequences=True))(x)\n",
    "x = GlobalMaxPool1D()(x)\n",
    "x = Dense(16, activation=\"relu\")(x)\n",
    "x = Dropout(0.1)(x)\n",
    "x = Dense(1, activation=\"sigmoid\")(x)\n",
    "model = Model(inputs=inp, outputs=x)\n",
    "model.compile(loss='binary_crossentropy', optimizer='adam', metrics=['accuracy'])\n",
    "print(model.summary())"
   ]
  },
  {
   "cell_type": "code",
   "execution_count": null,
   "id": "532282d2",
   "metadata": {},
   "outputs": [],
   "source": []
  },
  {
   "cell_type": "code",
   "execution_count": 209,
   "id": "d92660bd",
   "metadata": {},
   "outputs": [
    {
     "name": "stdout",
     "output_type": "stream",
     "text": [
      "Epoch 1/15\n",
      "49/49 [==============================] - 19s 346ms/step - loss: 0.5473 - accuracy: 0.6255 - val_loss: 0.4719 - val_accuracy: 0.7216\n",
      "Epoch 2/15\n",
      "49/49 [==============================] - 16s 334ms/step - loss: 0.3991 - accuracy: 0.7019 - val_loss: 0.4362 - val_accuracy: 0.7307\n",
      "Epoch 3/15\n",
      "49/49 [==============================] - 16s 323ms/step - loss: 0.3131 - accuracy: 0.7068 - val_loss: 0.4458 - val_accuracy: 0.6804\n",
      "Epoch 4/15\n",
      "49/49 [==============================] - 16s 325ms/step - loss: 0.2495 - accuracy: 0.7103 - val_loss: 0.7182 - val_accuracy: 0.6830\n",
      "Epoch 5/15\n",
      "49/49 [==============================] - 16s 323ms/step - loss: -0.2546 - accuracy: 0.7668 - val_loss: 1.0224 - val_accuracy: 0.6727\n",
      "Epoch 6/15\n",
      "49/49 [==============================] - 16s 323ms/step - loss: -1.0048 - accuracy: 0.7690 - val_loss: 0.6561 - val_accuracy: 0.6598\n",
      "Epoch 7/15\n",
      "49/49 [==============================] - 16s 325ms/step - loss: -2.3168 - accuracy: 0.7803 - val_loss: 4.2055 - val_accuracy: 0.6405\n",
      "Epoch 8/15\n",
      "49/49 [==============================] - 16s 324ms/step - loss: -4.8770 - accuracy: 0.8013 - val_loss: 5.1351 - val_accuracy: 0.6366\n",
      "Epoch 9/15\n",
      "49/49 [==============================] - 16s 322ms/step - loss: -8.9891 - accuracy: 0.8123 - val_loss: 4.9441 - val_accuracy: 0.6611\n",
      "Epoch 10/15\n",
      "49/49 [==============================] - 16s 324ms/step - loss: -14.0308 - accuracy: 0.7981 - val_loss: 11.7110 - val_accuracy: 0.6302\n",
      "Epoch 11/15\n",
      "49/49 [==============================] - 16s 324ms/step - loss: -21.1778 - accuracy: 0.8200 - val_loss: 7.6879 - val_accuracy: 0.6546\n",
      "Epoch 12/15\n",
      "49/49 [==============================] - 16s 324ms/step - loss: -29.5358 - accuracy: 0.8329 - val_loss: 15.6338 - val_accuracy: 0.6250\n",
      "Epoch 13/15\n",
      "49/49 [==============================] - 16s 333ms/step - loss: -36.3231 - accuracy: 0.8023 - val_loss: 36.6748 - val_accuracy: 0.5116\n",
      "Epoch 14/15\n",
      "49/49 [==============================] - 16s 334ms/step - loss: -42.4656 - accuracy: 0.7574 - val_loss: 11.3919 - val_accuracy: 0.6147\n",
      "Epoch 15/15\n",
      "49/49 [==============================] - 16s 333ms/step - loss: -53.0910 - accuracy: 0.5765 - val_loss: 33.6978 - val_accuracy: 0.6044\n"
     ]
    },
    {
     "data": {
      "image/png": "[encoded data removed]",
      "text/plain": [
       "<Figure size 432x288 with 1 Axes>"
      ]
     },
     "metadata": {
      "needs_background": "light"
     },
     "output_type": "display_data"
    },
    {
     "data": {
      "image/png": "[encoded data removed]",
      "text/plain": [
       "<Figure size 432x288 with 1 Axes>"
      ]
     },
     "metadata": {
      "needs_background": "light"
     },
     "output_type": "display_data"
    },
    {
     "name": "stdout",
     "output_type": "stream",
     "text": [
      "Test Accuracy: 54.929578\n"
     ]
    }
   ],
   "source": [
    "history = model.fit(training_Tweets, training_labels, batch_size=64, epochs=15, validation_data=(val_Tweets, val_labels))\n",
    "plot(history)\n",
    "\n",
    "loss, acc = model.evaluate(test_Tweets, test_labels, verbose=0)\n",
    "print('Test Accuracy: %f' % (accuracy*100))\n",
    "\n"
   ]
  },
  {
   "cell_type": "code",
   "execution_count": 210,
   "id": "38da92fd",
   "metadata": {},
   "outputs": [
    {
     "name": "stdout",
     "output_type": "stream",
     "text": [
      "1/1 [==============================] - 1s 1s/step\n"
     ]
    }
   ],
   "source": [
    "pred_val_labels = model.predict([val_Tweets], batch_size=1024, verbose=1)"
   ]
  },
  {
   "cell_type": "code",
   "execution_count": 211,
   "id": "5fc7f6fc",
   "metadata": {},
   "outputs": [],
   "source": [
    "pred_val_labels[pred_val_labels>=0.5] = 1\n",
    "pred_val_labels[pred_val_labels<0.5] = 0"
   ]
  },
  {
   "cell_type": "code",
   "execution_count": 212,
   "id": "ca3be7b8",
   "metadata": {},
   "outputs": [
    {
     "name": "stdout",
     "output_type": "stream",
     "text": [
      "1/1 [==============================] - 0s 235ms/step\n"
     ]
    }
   ],
   "source": [
    "pred_test_labels = model.predict([test_Tweets], batch_size=1024, verbose=1)"
   ]
  },
  {
   "cell_type": "code",
   "execution_count": 213,
   "id": "895c677d",
   "metadata": {},
   "outputs": [
    {
     "name": "stdout",
     "output_type": "stream",
     "text": [
      "[[  0. 102.]\n",
      " [  1. 111.]]\n"
     ]
    }
   ],
   "source": [
    "pred_test_labels[pred_test_labels>=0.5] = 1\n",
    "pred_test_labels[pred_test_labels<0.5] = 0\n",
    "\n",
    "unique, counts = np.unique(pred_test_labels, return_counts=True)\n",
    "print(np.asarray((unique, counts)).T)"
   ]
  },
  {
   "cell_type": "code",
   "execution_count": 214,
   "id": "2792d278",
   "metadata": {},
   "outputs": [
    {
     "name": "stdout",
     "output_type": "stream",
     "text": [
      "Sensitivity: 70.51%\n",
      "Specificity: 69.00%\n"
     ]
    },
    {
     "data": {
      "image/png": "[encoded data removed]",
      "text/plain": [
       "<Figure size 432x288 with 2 Axes>"
      ]
     },
     "metadata": {
      "needs_background": "light"
     },
     "output_type": "display_data"
    }
   ],
   "source": [
    "confusionMatrix(test_labels, pred_test_labels)"
   ]
  },
  {
   "cell_type": "code",
   "execution_count": 216,
   "id": "b6400e7f",
   "metadata": {},
   "outputs": [
    {
     "name": "stdout",
     "output_type": "stream",
     "text": [
      "0.4217262996140884\n",
      "0.4650427350427351\n",
      "0.39065536124359657\n"
     ]
    },
    {
     "name": "stderr",
     "output_type": "stream",
     "text": [
      "/Users/shaoxing/opt/anaconda3/lib/python3.8/site-packages/sklearn/metrics/_classification.py:1327: UndefinedMetricWarning: Recall is ill-defined and being set to 0.0 in labels with no true samples. Use `zero_division` parameter to control this behavior.\n",
      "  _warn_prf(average, modifier, msg_start, len(result))\n"
     ]
    }
   ],
   "source": [
    "from sklearn import metrics\n",
    "\n",
    "\n",
    "print(f1_score(pred_test_labels, test_labels, average=\"macro\"))\n",
    "print(precision_score(pred_test_labels, test_labels, average=\"macro\"))\n",
    "print(recall_score(pred_test_labels, test_labels, average=\"macro\"))"
   ]
  },
  {
   "cell_type": "code",
   "execution_count": null,
   "id": "0d1efdde",
   "metadata": {},
   "outputs": [],
   "source": []
  }
 ],
 "metadata": {
  "kernelspec": {
   "display_name": "Python 3",
   "language": "python",
   "name": "python3"
  },
  "language_info": {
   "codemirror_mode": {
    "name": "ipython",
    "version": 3
   },
   "file_extension": ".py",
   "mimetype": "text/x-python",
   "name": "python",
   "nbconvert_exporter": "python",
   "pygments_lexer": "ipython3",
   "version": "3.8.8"
  }
 },
 "nbformat": 4,
 "nbformat_minor": 5
}
